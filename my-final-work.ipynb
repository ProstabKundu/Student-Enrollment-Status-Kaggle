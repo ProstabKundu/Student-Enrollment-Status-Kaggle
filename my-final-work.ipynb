{
 "cells": [
  {
   "cell_type": "code",
   "execution_count": 1,
   "id": "8d252446",
   "metadata": {
    "_cell_guid": "b1076dfc-b9ad-4769-8c92-a6c4dae69d19",
    "_uuid": "8f2839f25d086af736a60e9eeb907d3b93b6e0e5",
    "execution": {
     "iopub.execute_input": "2022-09-03T05:49:51.922134Z",
     "iopub.status.busy": "2022-09-03T05:49:51.921284Z",
     "iopub.status.idle": "2022-09-03T05:49:51.934728Z",
     "shell.execute_reply": "2022-09-03T05:49:51.933304Z"
    },
    "papermill": {
     "duration": 0.036267,
     "end_time": "2022-09-03T05:49:51.937378",
     "exception": false,
     "start_time": "2022-09-03T05:49:51.901111",
     "status": "completed"
    },
    "tags": []
   },
   "outputs": [
    {
     "name": "stdout",
     "output_type": "stream",
     "text": [
      "/kaggle/input/students-drop-out-prediction/train.csv\n",
      "/kaggle/input/students-drop-out-prediction/test.csv\n"
     ]
    }
   ],
   "source": [
    "# This Python 3 environment comes with many helpful analytics libraries installed\n",
    "# It is defined by the kaggle/python Docker image: https://github.com/kaggle/docker-python\n",
    "# For example, here's several helpful packages to load\n",
    "\n",
    "import numpy as np # linear algebra\n",
    "import pandas as pd # data processing, CSV file I/O (e.g. pd.read_csv)\n",
    "\n",
    "# Input data files are available in the read-only \"../input/\" directory\n",
    "# For example, running this (by clicking run or pressing Shift+Enter) will list all files under the input directory\n",
    "\n",
    "import os\n",
    "for dirname, _, filenames in os.walk('/kaggle/input'):\n",
    "    for filename in filenames:\n",
    "        print(os.path.join(dirname, filename))\n",
    "\n",
    "# You can write up to 20GB to the current directory (/kaggle/working/) that gets preserved as output when you create a version using \"Save & Run All\" \n",
    "# You can also write temporary files to /kaggle/temp/, but they won't be saved outside of the current session"
   ]
  },
  {
   "cell_type": "code",
   "execution_count": 2,
   "id": "2167bad4",
   "metadata": {
    "execution": {
     "iopub.execute_input": "2022-09-03T05:49:51.973993Z",
     "iopub.status.busy": "2022-09-03T05:49:51.973004Z",
     "iopub.status.idle": "2022-09-03T05:49:52.020816Z",
     "shell.execute_reply": "2022-09-03T05:49:52.019863Z"
    },
    "papermill": {
     "duration": 0.067963,
     "end_time": "2022-09-03T05:49:52.023285",
     "exception": false,
     "start_time": "2022-09-03T05:49:51.955322",
     "status": "completed"
    },
    "tags": []
   },
   "outputs": [],
   "source": [
    "test = pd.read_csv(\"../input/students-drop-out-prediction/test.csv\")\n",
    "train = pd.read_csv(\"../input/students-drop-out-prediction/train.csv\")"
   ]
  },
  {
   "cell_type": "code",
   "execution_count": 3,
   "id": "4bbf47af",
   "metadata": {
    "execution": {
     "iopub.execute_input": "2022-09-03T05:49:52.059322Z",
     "iopub.status.busy": "2022-09-03T05:49:52.058642Z",
     "iopub.status.idle": "2022-09-03T05:49:52.088094Z",
     "shell.execute_reply": "2022-09-03T05:49:52.087038Z"
    },
    "papermill": {
     "duration": 0.049949,
     "end_time": "2022-09-03T05:49:52.090406",
     "exception": false,
     "start_time": "2022-09-03T05:49:52.040457",
     "status": "completed"
    },
    "tags": []
   },
   "outputs": [
    {
     "data": {
      "text/html": [
       "<div>\n",
       "<style scoped>\n",
       "    .dataframe tbody tr th:only-of-type {\n",
       "        vertical-align: middle;\n",
       "    }\n",
       "\n",
       "    .dataframe tbody tr th {\n",
       "        vertical-align: top;\n",
       "    }\n",
       "\n",
       "    .dataframe thead th {\n",
       "        text-align: right;\n",
       "    }\n",
       "</style>\n",
       "<table border=\"1\" class=\"dataframe\">\n",
       "  <thead>\n",
       "    <tr style=\"text-align: right;\">\n",
       "      <th></th>\n",
       "      <th>id</th>\n",
       "      <th>v_21</th>\n",
       "      <th>v_32</th>\n",
       "      <th>v_15</th>\n",
       "      <th>v_4</th>\n",
       "      <th>v_1</th>\n",
       "      <th>v_8</th>\n",
       "      <th>v_12</th>\n",
       "      <th>v_25</th>\n",
       "      <th>v_20</th>\n",
       "      <th>...</th>\n",
       "      <th>v_7</th>\n",
       "      <th>v_2</th>\n",
       "      <th>v_16</th>\n",
       "      <th>v_34</th>\n",
       "      <th>v_35</th>\n",
       "      <th>v_36</th>\n",
       "      <th>v_37</th>\n",
       "      <th>v_38</th>\n",
       "      <th>v_39</th>\n",
       "      <th>v_40</th>\n",
       "    </tr>\n",
       "  </thead>\n",
       "  <tbody>\n",
       "    <tr>\n",
       "      <th>0</th>\n",
       "      <td>0</td>\n",
       "      <td>9</td>\n",
       "      <td>90</td>\n",
       "      <td>15</td>\n",
       "      <td>121</td>\n",
       "      <td>1</td>\n",
       "      <td>8</td>\n",
       "      <td>23</td>\n",
       "      <td>114</td>\n",
       "      <td>256</td>\n",
       "      <td>...</td>\n",
       "      <td>10.8</td>\n",
       "      <td>10.4</td>\n",
       "      <td>6.74</td>\n",
       "      <td>4</td>\n",
       "      <td>96</td>\n",
       "      <td>36</td>\n",
       "      <td>34</td>\n",
       "      <td>23</td>\n",
       "      <td>72</td>\n",
       "      <td>5</td>\n",
       "    </tr>\n",
       "    <tr>\n",
       "      <th>1</th>\n",
       "      <td>1</td>\n",
       "      <td>7</td>\n",
       "      <td>123</td>\n",
       "      <td>14</td>\n",
       "      <td>126</td>\n",
       "      <td>1</td>\n",
       "      <td>5</td>\n",
       "      <td>19</td>\n",
       "      <td>3</td>\n",
       "      <td>40</td>\n",
       "      <td>...</td>\n",
       "      <td>19.4</td>\n",
       "      <td>0.5</td>\n",
       "      <td>6.79</td>\n",
       "      <td>15</td>\n",
       "      <td>78</td>\n",
       "      <td>12</td>\n",
       "      <td>25</td>\n",
       "      <td>27</td>\n",
       "      <td>67</td>\n",
       "      <td>12</td>\n",
       "    </tr>\n",
       "    <tr>\n",
       "      <th>2</th>\n",
       "      <td>2</td>\n",
       "      <td>3</td>\n",
       "      <td>6</td>\n",
       "      <td>10</td>\n",
       "      <td>102</td>\n",
       "      <td>1</td>\n",
       "      <td>1</td>\n",
       "      <td>16</td>\n",
       "      <td>181</td>\n",
       "      <td>168</td>\n",
       "      <td>...</td>\n",
       "      <td>7.6</td>\n",
       "      <td>2.6</td>\n",
       "      <td>0.32</td>\n",
       "      <td>4</td>\n",
       "      <td>81</td>\n",
       "      <td>47</td>\n",
       "      <td>30</td>\n",
       "      <td>54</td>\n",
       "      <td>23</td>\n",
       "      <td>4</td>\n",
       "    </tr>\n",
       "    <tr>\n",
       "      <th>3</th>\n",
       "      <td>3</td>\n",
       "      <td>3</td>\n",
       "      <td>6</td>\n",
       "      <td>10</td>\n",
       "      <td>148</td>\n",
       "      <td>1</td>\n",
       "      <td>1</td>\n",
       "      <td>16</td>\n",
       "      <td>110</td>\n",
       "      <td>278</td>\n",
       "      <td>...</td>\n",
       "      <td>11.1</td>\n",
       "      <td>0.6</td>\n",
       "      <td>2.02</td>\n",
       "      <td>4</td>\n",
       "      <td>100</td>\n",
       "      <td>6</td>\n",
       "      <td>23</td>\n",
       "      <td>12</td>\n",
       "      <td>28</td>\n",
       "      <td>1</td>\n",
       "    </tr>\n",
       "    <tr>\n",
       "      <th>4</th>\n",
       "      <td>4</td>\n",
       "      <td>3</td>\n",
       "      <td>6</td>\n",
       "      <td>10</td>\n",
       "      <td>148</td>\n",
       "      <td>1</td>\n",
       "      <td>1</td>\n",
       "      <td>16</td>\n",
       "      <td>1</td>\n",
       "      <td>168</td>\n",
       "      <td>...</td>\n",
       "      <td>7.6</td>\n",
       "      <td>2.6</td>\n",
       "      <td>0.32</td>\n",
       "      <td>7</td>\n",
       "      <td>97</td>\n",
       "      <td>25</td>\n",
       "      <td>30</td>\n",
       "      <td>18</td>\n",
       "      <td>52</td>\n",
       "      <td>0</td>\n",
       "    </tr>\n",
       "  </tbody>\n",
       "</table>\n",
       "<p>5 rows × 42 columns</p>\n",
       "</div>"
      ],
      "text/plain": [
       "   id  v_21  v_32  v_15  v_4  v_1  v_8  v_12  v_25  v_20  ...   v_7   v_2  \\\n",
       "0   0     9    90    15  121    1    8    23   114   256  ...  10.8  10.4   \n",
       "1   1     7   123    14  126    1    5    19     3    40  ...  19.4   0.5   \n",
       "2   2     3     6    10  102    1    1    16   181   168  ...   7.6   2.6   \n",
       "3   3     3     6    10  148    1    1    16   110   278  ...  11.1   0.6   \n",
       "4   4     3     6    10  148    1    1    16     1   168  ...   7.6   2.6   \n",
       "\n",
       "   v_16  v_34  v_35  v_36  v_37  v_38  v_39  v_40  \n",
       "0  6.74     4    96    36    34    23    72     5  \n",
       "1  6.79    15    78    12    25    27    67    12  \n",
       "2  0.32     4    81    47    30    54    23     4  \n",
       "3  2.02     4   100     6    23    12    28     1  \n",
       "4  0.32     7    97    25    30    18    52     0  \n",
       "\n",
       "[5 rows x 42 columns]"
      ]
     },
     "execution_count": 3,
     "metadata": {},
     "output_type": "execute_result"
    }
   ],
   "source": [
    "#first five row of test\n",
    "test.head()"
   ]
  },
  {
   "cell_type": "code",
   "execution_count": 4,
   "id": "1bd21ca1",
   "metadata": {
    "execution": {
     "iopub.execute_input": "2022-09-03T05:49:52.127582Z",
     "iopub.status.busy": "2022-09-03T05:49:52.126811Z",
     "iopub.status.idle": "2022-09-03T05:49:52.150630Z",
     "shell.execute_reply": "2022-09-03T05:49:52.149063Z"
    },
    "papermill": {
     "duration": 0.045821,
     "end_time": "2022-09-03T05:49:52.154104",
     "exception": false,
     "start_time": "2022-09-03T05:49:52.108283",
     "status": "completed"
    },
    "tags": []
   },
   "outputs": [
    {
     "data": {
      "text/plain": [
       "1    1863\n",
       "0    1243\n",
       "2     690\n",
       "Name: label, dtype: int64"
      ]
     },
     "execution_count": 4,
     "metadata": {},
     "output_type": "execute_result"
    }
   ],
   "source": [
    "#label distribution\n",
    "train.label.value_counts()"
   ]
  },
  {
   "cell_type": "code",
   "execution_count": 5,
   "id": "e8676ff7",
   "metadata": {
    "execution": {
     "iopub.execute_input": "2022-09-03T05:49:52.217771Z",
     "iopub.status.busy": "2022-09-03T05:49:52.217175Z",
     "iopub.status.idle": "2022-09-03T05:49:52.249160Z",
     "shell.execute_reply": "2022-09-03T05:49:52.247884Z"
    },
    "papermill": {
     "duration": 0.065043,
     "end_time": "2022-09-03T05:49:52.251541",
     "exception": false,
     "start_time": "2022-09-03T05:49:52.186498",
     "status": "completed"
    },
    "tags": []
   },
   "outputs": [
    {
     "data": {
      "text/html": [
       "<div>\n",
       "<style scoped>\n",
       "    .dataframe tbody tr th:only-of-type {\n",
       "        vertical-align: middle;\n",
       "    }\n",
       "\n",
       "    .dataframe tbody tr th {\n",
       "        vertical-align: top;\n",
       "    }\n",
       "\n",
       "    .dataframe thead th {\n",
       "        text-align: right;\n",
       "    }\n",
       "</style>\n",
       "<table border=\"1\" class=\"dataframe\">\n",
       "  <thead>\n",
       "    <tr style=\"text-align: right;\">\n",
       "      <th></th>\n",
       "      <th>id</th>\n",
       "      <th>v_21</th>\n",
       "      <th>v_32</th>\n",
       "      <th>v_15</th>\n",
       "      <th>v_4</th>\n",
       "      <th>v_1</th>\n",
       "      <th>v_8</th>\n",
       "      <th>v_12</th>\n",
       "      <th>v_25</th>\n",
       "      <th>v_20</th>\n",
       "      <th>...</th>\n",
       "      <th>v_2</th>\n",
       "      <th>v_16</th>\n",
       "      <th>v_34</th>\n",
       "      <th>v_35</th>\n",
       "      <th>v_36</th>\n",
       "      <th>v_37</th>\n",
       "      <th>v_38</th>\n",
       "      <th>v_39</th>\n",
       "      <th>v_40</th>\n",
       "      <th>label</th>\n",
       "    </tr>\n",
       "  </thead>\n",
       "  <tbody>\n",
       "    <tr>\n",
       "      <th>0</th>\n",
       "      <td>0</td>\n",
       "      <td>3</td>\n",
       "      <td>6</td>\n",
       "      <td>11</td>\n",
       "      <td>55</td>\n",
       "      <td>1</td>\n",
       "      <td>1</td>\n",
       "      <td>16</td>\n",
       "      <td>5</td>\n",
       "      <td>60</td>\n",
       "      <td>...</td>\n",
       "      <td>-0.3</td>\n",
       "      <td>0.79</td>\n",
       "      <td>1</td>\n",
       "      <td>93</td>\n",
       "      <td>47</td>\n",
       "      <td>1</td>\n",
       "      <td>48</td>\n",
       "      <td>26</td>\n",
       "      <td>0</td>\n",
       "      <td>1</td>\n",
       "    </tr>\n",
       "    <tr>\n",
       "      <th>1</th>\n",
       "      <td>1</td>\n",
       "      <td>8</td>\n",
       "      <td>94</td>\n",
       "      <td>12</td>\n",
       "      <td>65</td>\n",
       "      <td>1</td>\n",
       "      <td>4</td>\n",
       "      <td>22</td>\n",
       "      <td>4</td>\n",
       "      <td>173</td>\n",
       "      <td>...</td>\n",
       "      <td>5.4</td>\n",
       "      <td>6.51</td>\n",
       "      <td>6</td>\n",
       "      <td>29</td>\n",
       "      <td>37</td>\n",
       "      <td>25</td>\n",
       "      <td>53</td>\n",
       "      <td>35</td>\n",
       "      <td>7</td>\n",
       "      <td>2</td>\n",
       "    </tr>\n",
       "    <tr>\n",
       "      <th>2</th>\n",
       "      <td>2</td>\n",
       "      <td>3</td>\n",
       "      <td>166</td>\n",
       "      <td>10</td>\n",
       "      <td>155</td>\n",
       "      <td>1</td>\n",
       "      <td>1</td>\n",
       "      <td>16</td>\n",
       "      <td>1</td>\n",
       "      <td>309</td>\n",
       "      <td>...</td>\n",
       "      <td>0.6</td>\n",
       "      <td>2.02</td>\n",
       "      <td>1</td>\n",
       "      <td>8</td>\n",
       "      <td>34</td>\n",
       "      <td>4</td>\n",
       "      <td>43</td>\n",
       "      <td>38</td>\n",
       "      <td>2</td>\n",
       "      <td>1</td>\n",
       "    </tr>\n",
       "    <tr>\n",
       "      <th>3</th>\n",
       "      <td>3</td>\n",
       "      <td>3</td>\n",
       "      <td>6</td>\n",
       "      <td>13</td>\n",
       "      <td>121</td>\n",
       "      <td>1</td>\n",
       "      <td>1</td>\n",
       "      <td>16</td>\n",
       "      <td>1</td>\n",
       "      <td>6</td>\n",
       "      <td>...</td>\n",
       "      <td>0.6</td>\n",
       "      <td>2.02</td>\n",
       "      <td>7</td>\n",
       "      <td>37</td>\n",
       "      <td>40</td>\n",
       "      <td>27</td>\n",
       "      <td>43</td>\n",
       "      <td>65</td>\n",
       "      <td>0</td>\n",
       "      <td>1</td>\n",
       "    </tr>\n",
       "    <tr>\n",
       "      <th>4</th>\n",
       "      <td>4</td>\n",
       "      <td>4</td>\n",
       "      <td>51</td>\n",
       "      <td>18</td>\n",
       "      <td>21</td>\n",
       "      <td>1</td>\n",
       "      <td>17</td>\n",
       "      <td>22</td>\n",
       "      <td>118</td>\n",
       "      <td>168</td>\n",
       "      <td>...</td>\n",
       "      <td>8.4</td>\n",
       "      <td>12.51</td>\n",
       "      <td>16</td>\n",
       "      <td>22</td>\n",
       "      <td>25</td>\n",
       "      <td>25</td>\n",
       "      <td>24</td>\n",
       "      <td>23</td>\n",
       "      <td>1</td>\n",
       "      <td>1</td>\n",
       "    </tr>\n",
       "  </tbody>\n",
       "</table>\n",
       "<p>5 rows × 43 columns</p>\n",
       "</div>"
      ],
      "text/plain": [
       "   id  v_21  v_32  v_15  v_4  v_1  v_8  v_12  v_25  v_20  ...  v_2   v_16  \\\n",
       "0   0     3     6    11   55    1    1    16     5    60  ... -0.3   0.79   \n",
       "1   1     8    94    12   65    1    4    22     4   173  ...  5.4   6.51   \n",
       "2   2     3   166    10  155    1    1    16     1   309  ...  0.6   2.02   \n",
       "3   3     3     6    13  121    1    1    16     1     6  ...  0.6   2.02   \n",
       "4   4     4    51    18   21    1   17    22   118   168  ...  8.4  12.51   \n",
       "\n",
       "   v_34  v_35  v_36  v_37  v_38  v_39  v_40  label  \n",
       "0     1    93    47     1    48    26     0      1  \n",
       "1     6    29    37    25    53    35     7      2  \n",
       "2     1     8    34     4    43    38     2      1  \n",
       "3     7    37    40    27    43    65     0      1  \n",
       "4    16    22    25    25    24    23     1      1  \n",
       "\n",
       "[5 rows x 43 columns]"
      ]
     },
     "execution_count": 5,
     "metadata": {},
     "output_type": "execute_result"
    }
   ],
   "source": [
    "#first five row of train\n",
    "train.head()"
   ]
  },
  {
   "cell_type": "code",
   "execution_count": 6,
   "id": "1e3ce8b9",
   "metadata": {
    "execution": {
     "iopub.execute_input": "2022-09-03T05:49:52.289588Z",
     "iopub.status.busy": "2022-09-03T05:49:52.288453Z",
     "iopub.status.idle": "2022-09-03T05:49:52.297047Z",
     "shell.execute_reply": "2022-09-03T05:49:52.296054Z"
    },
    "papermill": {
     "duration": 0.029993,
     "end_time": "2022-09-03T05:49:52.299099",
     "exception": false,
     "start_time": "2022-09-03T05:49:52.269106",
     "status": "completed"
    },
    "tags": []
   },
   "outputs": [
    {
     "data": {
      "text/plain": [
       "array([1, 2, 0])"
      ]
     },
     "execution_count": 6,
     "metadata": {},
     "output_type": "execute_result"
    }
   ],
   "source": [
    "#unique label in train\n",
    "train.label.unique()"
   ]
  },
  {
   "cell_type": "code",
   "execution_count": 7,
   "id": "c348184e",
   "metadata": {
    "execution": {
     "iopub.execute_input": "2022-09-03T05:49:52.337464Z",
     "iopub.status.busy": "2022-09-03T05:49:52.336553Z",
     "iopub.status.idle": "2022-09-03T05:49:52.355199Z",
     "shell.execute_reply": "2022-09-03T05:49:52.354181Z"
    },
    "papermill": {
     "duration": 0.041867,
     "end_time": "2022-09-03T05:49:52.358903",
     "exception": false,
     "start_time": "2022-09-03T05:49:52.317036",
     "status": "completed"
    },
    "tags": []
   },
   "outputs": [
    {
     "name": "stdout",
     "output_type": "stream",
     "text": [
      "<class 'pandas.core.frame.DataFrame'>\n",
      "RangeIndex: 3796 entries, 0 to 3795\n",
      "Data columns (total 43 columns):\n",
      " #   Column  Non-Null Count  Dtype  \n",
      "---  ------  --------------  -----  \n",
      " 0   id      3796 non-null   int64  \n",
      " 1   v_21    3796 non-null   int64  \n",
      " 2   v_32    3796 non-null   int64  \n",
      " 3   v_15    3796 non-null   int64  \n",
      " 4   v_4     3796 non-null   int64  \n",
      " 5   v_1     3796 non-null   int64  \n",
      " 6   v_8     3796 non-null   int64  \n",
      " 7   v_12    3796 non-null   int64  \n",
      " 8   v_25    3796 non-null   int64  \n",
      " 9   v_20    3796 non-null   int64  \n",
      " 10  v_18    3796 non-null   int64  \n",
      " 11  v_3     3796 non-null   int64  \n",
      " 12  v_11    3796 non-null   int64  \n",
      " 13  v_14    3796 non-null   int64  \n",
      " 14  v_26    3796 non-null   int64  \n",
      " 15  v_27    3796 non-null   int64  \n",
      " 16  v_30    3796 non-null   int64  \n",
      " 17  v_9     3796 non-null   int64  \n",
      " 18  v_31    3796 non-null   int64  \n",
      " 19  v_28    3796 non-null   int64  \n",
      " 20  v_13    3796 non-null   int64  \n",
      " 21  v_33    3796 non-null   int64  \n",
      " 22  v_17    3796 non-null   int64  \n",
      " 23  v_19    3796 non-null   int64  \n",
      " 24  v_29    3796 non-null   int64  \n",
      " 25  v_23    3796 non-null   int64  \n",
      " 26  v_24    3796 non-null   int64  \n",
      " 27  v_10    3796 non-null   int64  \n",
      " 28  v_5     3796 non-null   int64  \n",
      " 29  v_6     3796 non-null   int64  \n",
      " 30  v_22    3796 non-null   int64  \n",
      " 31  v_0     3796 non-null   int64  \n",
      " 32  v_7     3796 non-null   float64\n",
      " 33  v_2     3796 non-null   float64\n",
      " 34  v_16    3796 non-null   float64\n",
      " 35  v_34    3796 non-null   int64  \n",
      " 36  v_35    3796 non-null   int64  \n",
      " 37  v_36    3796 non-null   int64  \n",
      " 38  v_37    3796 non-null   int64  \n",
      " 39  v_38    3796 non-null   int64  \n",
      " 40  v_39    3796 non-null   int64  \n",
      " 41  v_40    3796 non-null   int64  \n",
      " 42  label   3796 non-null   int64  \n",
      "dtypes: float64(3), int64(40)\n",
      "memory usage: 1.2 MB\n"
     ]
    }
   ],
   "source": [
    "train.info()"
   ]
  },
  {
   "cell_type": "code",
   "execution_count": 8,
   "id": "70286dfd",
   "metadata": {
    "execution": {
     "iopub.execute_input": "2022-09-03T05:49:52.397967Z",
     "iopub.status.busy": "2022-09-03T05:49:52.397231Z",
     "iopub.status.idle": "2022-09-03T05:49:52.513182Z",
     "shell.execute_reply": "2022-09-03T05:49:52.511532Z"
    },
    "papermill": {
     "duration": 0.144765,
     "end_time": "2022-09-03T05:49:52.522677",
     "exception": false,
     "start_time": "2022-09-03T05:49:52.377912",
     "status": "completed"
    },
    "tags": []
   },
   "outputs": [
    {
     "data": {
      "text/html": [
       "<div>\n",
       "<style scoped>\n",
       "    .dataframe tbody tr th:only-of-type {\n",
       "        vertical-align: middle;\n",
       "    }\n",
       "\n",
       "    .dataframe tbody tr th {\n",
       "        vertical-align: top;\n",
       "    }\n",
       "\n",
       "    .dataframe thead th {\n",
       "        text-align: right;\n",
       "    }\n",
       "</style>\n",
       "<table border=\"1\" class=\"dataframe\">\n",
       "  <thead>\n",
       "    <tr style=\"text-align: right;\">\n",
       "      <th></th>\n",
       "      <th>id</th>\n",
       "      <th>v_21</th>\n",
       "      <th>v_32</th>\n",
       "      <th>v_15</th>\n",
       "      <th>v_4</th>\n",
       "      <th>v_1</th>\n",
       "      <th>v_8</th>\n",
       "      <th>v_12</th>\n",
       "      <th>v_25</th>\n",
       "      <th>v_20</th>\n",
       "      <th>...</th>\n",
       "      <th>v_2</th>\n",
       "      <th>v_16</th>\n",
       "      <th>v_34</th>\n",
       "      <th>v_35</th>\n",
       "      <th>v_36</th>\n",
       "      <th>v_37</th>\n",
       "      <th>v_38</th>\n",
       "      <th>v_39</th>\n",
       "      <th>v_40</th>\n",
       "      <th>label</th>\n",
       "    </tr>\n",
       "  </thead>\n",
       "  <tbody>\n",
       "    <tr>\n",
       "      <th>count</th>\n",
       "      <td>3796.000000</td>\n",
       "      <td>3796.000000</td>\n",
       "      <td>3796.000000</td>\n",
       "      <td>3796.000000</td>\n",
       "      <td>3796.000000</td>\n",
       "      <td>3796.000000</td>\n",
       "      <td>3796.000000</td>\n",
       "      <td>3796.000000</td>\n",
       "      <td>3796.000000</td>\n",
       "      <td>3796.000000</td>\n",
       "      <td>...</td>\n",
       "      <td>3796.000000</td>\n",
       "      <td>3796.000000</td>\n",
       "      <td>3796.000000</td>\n",
       "      <td>3796.000000</td>\n",
       "      <td>3796.000000</td>\n",
       "      <td>3796.000000</td>\n",
       "      <td>3796.000000</td>\n",
       "      <td>3796.000000</td>\n",
       "      <td>3796.000000</td>\n",
       "      <td>3796.00000</td>\n",
       "    </tr>\n",
       "    <tr>\n",
       "      <th>mean</th>\n",
       "      <td>1897.500000</td>\n",
       "      <td>4.817439</td>\n",
       "      <td>70.825606</td>\n",
       "      <td>11.609062</td>\n",
       "      <td>99.329294</td>\n",
       "      <td>0.911486</td>\n",
       "      <td>3.436249</td>\n",
       "      <td>18.970495</td>\n",
       "      <td>97.203372</td>\n",
       "      <td>166.138567</td>\n",
       "      <td>...</td>\n",
       "      <td>2.041333</td>\n",
       "      <td>0.835901</td>\n",
       "      <td>5.341149</td>\n",
       "      <td>50.674658</td>\n",
       "      <td>26.212065</td>\n",
       "      <td>20.837197</td>\n",
       "      <td>31.276607</td>\n",
       "      <td>40.210485</td>\n",
       "      <td>3.278978</td>\n",
       "      <td>0.85432</td>\n",
       "    </tr>\n",
       "    <tr>\n",
       "      <th>std</th>\n",
       "      <td>1095.955139</td>\n",
       "      <td>6.166860</td>\n",
       "      <td>56.110329</td>\n",
       "      <td>2.576362</td>\n",
       "      <td>45.017380</td>\n",
       "      <td>0.284079</td>\n",
       "      <td>4.577644</td>\n",
       "      <td>15.010042</td>\n",
       "      <td>79.213308</td>\n",
       "      <td>103.121322</td>\n",
       "      <td>...</td>\n",
       "      <td>2.516779</td>\n",
       "      <td>3.109413</td>\n",
       "      <td>3.507388</td>\n",
       "      <td>29.330820</td>\n",
       "      <td>14.929649</td>\n",
       "      <td>11.984063</td>\n",
       "      <td>17.847942</td>\n",
       "      <td>22.466458</td>\n",
       "      <td>2.618851</td>\n",
       "      <td>0.69866</td>\n",
       "    </tr>\n",
       "    <tr>\n",
       "      <th>min</th>\n",
       "      <td>0.000000</td>\n",
       "      <td>3.000000</td>\n",
       "      <td>6.000000</td>\n",
       "      <td>9.000000</td>\n",
       "      <td>9.000000</td>\n",
       "      <td>0.000000</td>\n",
       "      <td>1.000000</td>\n",
       "      <td>16.000000</td>\n",
       "      <td>1.000000</td>\n",
       "      <td>6.000000</td>\n",
       "      <td>...</td>\n",
       "      <td>-0.800000</td>\n",
       "      <td>-4.060000</td>\n",
       "      <td>0.000000</td>\n",
       "      <td>0.000000</td>\n",
       "      <td>0.000000</td>\n",
       "      <td>0.000000</td>\n",
       "      <td>0.000000</td>\n",
       "      <td>0.000000</td>\n",
       "      <td>0.000000</td>\n",
       "      <td>0.00000</td>\n",
       "    </tr>\n",
       "    <tr>\n",
       "      <th>25%</th>\n",
       "      <td>948.750000</td>\n",
       "      <td>3.000000</td>\n",
       "      <td>6.000000</td>\n",
       "      <td>10.000000</td>\n",
       "      <td>55.000000</td>\n",
       "      <td>1.000000</td>\n",
       "      <td>1.000000</td>\n",
       "      <td>16.000000</td>\n",
       "      <td>5.000000</td>\n",
       "      <td>60.000000</td>\n",
       "      <td>...</td>\n",
       "      <td>0.500000</td>\n",
       "      <td>-1.700000</td>\n",
       "      <td>3.000000</td>\n",
       "      <td>25.000000</td>\n",
       "      <td>13.000000</td>\n",
       "      <td>11.000000</td>\n",
       "      <td>16.000000</td>\n",
       "      <td>21.750000</td>\n",
       "      <td>1.000000</td>\n",
       "      <td>0.00000</td>\n",
       "    </tr>\n",
       "    <tr>\n",
       "      <th>50%</th>\n",
       "      <td>1897.500000</td>\n",
       "      <td>3.000000</td>\n",
       "      <td>89.000000</td>\n",
       "      <td>10.000000</td>\n",
       "      <td>101.000000</td>\n",
       "      <td>1.000000</td>\n",
       "      <td>1.000000</td>\n",
       "      <td>16.000000</td>\n",
       "      <td>110.000000</td>\n",
       "      <td>168.000000</td>\n",
       "      <td>...</td>\n",
       "      <td>1.400000</td>\n",
       "      <td>0.790000</td>\n",
       "      <td>5.000000</td>\n",
       "      <td>50.000000</td>\n",
       "      <td>26.000000</td>\n",
       "      <td>21.000000</td>\n",
       "      <td>31.000000</td>\n",
       "      <td>41.000000</td>\n",
       "      <td>3.000000</td>\n",
       "      <td>1.00000</td>\n",
       "    </tr>\n",
       "    <tr>\n",
       "      <th>75%</th>\n",
       "      <td>2846.250000</td>\n",
       "      <td>4.000000</td>\n",
       "      <td>116.000000</td>\n",
       "      <td>12.000000</td>\n",
       "      <td>146.000000</td>\n",
       "      <td>1.000000</td>\n",
       "      <td>3.000000</td>\n",
       "      <td>16.000000</td>\n",
       "      <td>181.000000</td>\n",
       "      <td>251.000000</td>\n",
       "      <td>...</td>\n",
       "      <td>2.800000</td>\n",
       "      <td>2.020000</td>\n",
       "      <td>8.000000</td>\n",
       "      <td>76.000000</td>\n",
       "      <td>39.000000</td>\n",
       "      <td>31.000000</td>\n",
       "      <td>47.000000</td>\n",
       "      <td>59.000000</td>\n",
       "      <td>5.000000</td>\n",
       "      <td>1.00000</td>\n",
       "    </tr>\n",
       "    <tr>\n",
       "      <th>max</th>\n",
       "      <td>3795.000000</td>\n",
       "      <td>61.000000</td>\n",
       "      <td>176.000000</td>\n",
       "      <td>25.000000</td>\n",
       "      <td>176.000000</td>\n",
       "      <td>1.000000</td>\n",
       "      <td>25.000000</td>\n",
       "      <td>179.000000</td>\n",
       "      <td>289.000000</td>\n",
       "      <td>322.000000</td>\n",
       "      <td>...</td>\n",
       "      <td>12.700000</td>\n",
       "      <td>12.510000</td>\n",
       "      <td>18.000000</td>\n",
       "      <td>107.000000</td>\n",
       "      <td>58.000000</td>\n",
       "      <td>49.000000</td>\n",
       "      <td>69.000000</td>\n",
       "      <td>87.000000</td>\n",
       "      <td>14.000000</td>\n",
       "      <td>2.00000</td>\n",
       "    </tr>\n",
       "  </tbody>\n",
       "</table>\n",
       "<p>8 rows × 43 columns</p>\n",
       "</div>"
      ],
      "text/plain": [
       "                id         v_21         v_32         v_15          v_4  \\\n",
       "count  3796.000000  3796.000000  3796.000000  3796.000000  3796.000000   \n",
       "mean   1897.500000     4.817439    70.825606    11.609062    99.329294   \n",
       "std    1095.955139     6.166860    56.110329     2.576362    45.017380   \n",
       "min       0.000000     3.000000     6.000000     9.000000     9.000000   \n",
       "25%     948.750000     3.000000     6.000000    10.000000    55.000000   \n",
       "50%    1897.500000     3.000000    89.000000    10.000000   101.000000   \n",
       "75%    2846.250000     4.000000   116.000000    12.000000   146.000000   \n",
       "max    3795.000000    61.000000   176.000000    25.000000   176.000000   \n",
       "\n",
       "               v_1          v_8         v_12         v_25         v_20  ...  \\\n",
       "count  3796.000000  3796.000000  3796.000000  3796.000000  3796.000000  ...   \n",
       "mean      0.911486     3.436249    18.970495    97.203372   166.138567  ...   \n",
       "std       0.284079     4.577644    15.010042    79.213308   103.121322  ...   \n",
       "min       0.000000     1.000000    16.000000     1.000000     6.000000  ...   \n",
       "25%       1.000000     1.000000    16.000000     5.000000    60.000000  ...   \n",
       "50%       1.000000     1.000000    16.000000   110.000000   168.000000  ...   \n",
       "75%       1.000000     3.000000    16.000000   181.000000   251.000000  ...   \n",
       "max       1.000000    25.000000   179.000000   289.000000   322.000000  ...   \n",
       "\n",
       "               v_2         v_16         v_34         v_35         v_36  \\\n",
       "count  3796.000000  3796.000000  3796.000000  3796.000000  3796.000000   \n",
       "mean      2.041333     0.835901     5.341149    50.674658    26.212065   \n",
       "std       2.516779     3.109413     3.507388    29.330820    14.929649   \n",
       "min      -0.800000    -4.060000     0.000000     0.000000     0.000000   \n",
       "25%       0.500000    -1.700000     3.000000    25.000000    13.000000   \n",
       "50%       1.400000     0.790000     5.000000    50.000000    26.000000   \n",
       "75%       2.800000     2.020000     8.000000    76.000000    39.000000   \n",
       "max      12.700000    12.510000    18.000000   107.000000    58.000000   \n",
       "\n",
       "              v_37         v_38         v_39         v_40       label  \n",
       "count  3796.000000  3796.000000  3796.000000  3796.000000  3796.00000  \n",
       "mean     20.837197    31.276607    40.210485     3.278978     0.85432  \n",
       "std      11.984063    17.847942    22.466458     2.618851     0.69866  \n",
       "min       0.000000     0.000000     0.000000     0.000000     0.00000  \n",
       "25%      11.000000    16.000000    21.750000     1.000000     0.00000  \n",
       "50%      21.000000    31.000000    41.000000     3.000000     1.00000  \n",
       "75%      31.000000    47.000000    59.000000     5.000000     1.00000  \n",
       "max      49.000000    69.000000    87.000000    14.000000     2.00000  \n",
       "\n",
       "[8 rows x 43 columns]"
      ]
     },
     "execution_count": 8,
     "metadata": {},
     "output_type": "execute_result"
    }
   ],
   "source": [
    "train.describe()"
   ]
  },
  {
   "cell_type": "code",
   "execution_count": 9,
   "id": "0e4373dc",
   "metadata": {
    "execution": {
     "iopub.execute_input": "2022-09-03T05:49:52.598792Z",
     "iopub.status.busy": "2022-09-03T05:49:52.597650Z",
     "iopub.status.idle": "2022-09-03T05:49:52.605864Z",
     "shell.execute_reply": "2022-09-03T05:49:52.604734Z"
    },
    "papermill": {
     "duration": 0.049341,
     "end_time": "2022-09-03T05:49:52.612879",
     "exception": false,
     "start_time": "2022-09-03T05:49:52.563538",
     "status": "completed"
    },
    "tags": []
   },
   "outputs": [
    {
     "data": {
      "text/plain": [
       "(3796, 43)"
      ]
     },
     "execution_count": 9,
     "metadata": {},
     "output_type": "execute_result"
    }
   ],
   "source": [
    "train.shape"
   ]
  },
  {
   "cell_type": "code",
   "execution_count": 10,
   "id": "c7a2dadc",
   "metadata": {
    "execution": {
     "iopub.execute_input": "2022-09-03T05:49:52.655168Z",
     "iopub.status.busy": "2022-09-03T05:49:52.654281Z",
     "iopub.status.idle": "2022-09-03T05:49:52.660603Z",
     "shell.execute_reply": "2022-09-03T05:49:52.659691Z"
    },
    "papermill": {
     "duration": 0.027625,
     "end_time": "2022-09-03T05:49:52.662599",
     "exception": false,
     "start_time": "2022-09-03T05:49:52.634974",
     "status": "completed"
    },
    "tags": []
   },
   "outputs": [
    {
     "data": {
      "text/plain": [
       "(1628, 42)"
      ]
     },
     "execution_count": 10,
     "metadata": {},
     "output_type": "execute_result"
    }
   ],
   "source": [
    "test.shape"
   ]
  },
  {
   "cell_type": "code",
   "execution_count": 11,
   "id": "2662e2a2",
   "metadata": {
    "execution": {
     "iopub.execute_input": "2022-09-03T05:49:52.702048Z",
     "iopub.status.busy": "2022-09-03T05:49:52.700398Z",
     "iopub.status.idle": "2022-09-03T05:49:52.710142Z",
     "shell.execute_reply": "2022-09-03T05:49:52.708951Z"
    },
    "papermill": {
     "duration": 0.031466,
     "end_time": "2022-09-03T05:49:52.712570",
     "exception": false,
     "start_time": "2022-09-03T05:49:52.681104",
     "status": "completed"
    },
    "tags": []
   },
   "outputs": [
    {
     "data": {
      "text/plain": [
       "0"
      ]
     },
     "execution_count": 11,
     "metadata": {},
     "output_type": "execute_result"
    }
   ],
   "source": [
    "#preprocessing the data\n",
    "#checking for missing values\n",
    "train.isnull().sum().sum()\n"
   ]
  },
  {
   "cell_type": "code",
   "execution_count": 12,
   "id": "08535355",
   "metadata": {
    "execution": {
     "iopub.execute_input": "2022-09-03T05:49:52.752370Z",
     "iopub.status.busy": "2022-09-03T05:49:52.750843Z",
     "iopub.status.idle": "2022-09-03T05:49:52.759750Z",
     "shell.execute_reply": "2022-09-03T05:49:52.758680Z"
    },
    "papermill": {
     "duration": 0.030551,
     "end_time": "2022-09-03T05:49:52.761923",
     "exception": false,
     "start_time": "2022-09-03T05:49:52.731372",
     "status": "completed"
    },
    "tags": []
   },
   "outputs": [
    {
     "data": {
      "text/plain": [
       "0"
      ]
     },
     "execution_count": 12,
     "metadata": {},
     "output_type": "execute_result"
    }
   ],
   "source": [
    "test.isnull().sum().sum()"
   ]
  },
  {
   "cell_type": "code",
   "execution_count": 13,
   "id": "238cb95a",
   "metadata": {
    "execution": {
     "iopub.execute_input": "2022-09-03T05:49:52.802863Z",
     "iopub.status.busy": "2022-09-03T05:49:52.801221Z",
     "iopub.status.idle": "2022-09-03T05:49:53.819726Z",
     "shell.execute_reply": "2022-09-03T05:49:53.817554Z"
    },
    "papermill": {
     "duration": 1.042303,
     "end_time": "2022-09-03T05:49:53.823958",
     "exception": false,
     "start_time": "2022-09-03T05:49:52.781655",
     "status": "completed"
    },
    "tags": []
   },
   "outputs": [],
   "source": [
    "from sklearn.preprocessing import StandardScaler\n",
    "from sklearn.model_selection import train_test_split\n",
    "import xgboost as xgb\n"
   ]
  },
  {
   "cell_type": "code",
   "execution_count": 14,
   "id": "f9bf5fa1",
   "metadata": {
    "execution": {
     "iopub.execute_input": "2022-09-03T05:49:53.909024Z",
     "iopub.status.busy": "2022-09-03T05:49:53.908542Z",
     "iopub.status.idle": "2022-09-03T05:49:53.927910Z",
     "shell.execute_reply": "2022-09-03T05:49:53.926296Z"
    },
    "papermill": {
     "duration": 0.063645,
     "end_time": "2022-09-03T05:49:53.932169",
     "exception": false,
     "start_time": "2022-09-03T05:49:53.868524",
     "status": "completed"
    },
    "tags": []
   },
   "outputs": [],
   "source": [
    "X_train,X_test,y_train,y_test = train_test_split(train.drop(['label','id'],axis = 1),train.label,test_size = .3,random_state= 42)"
   ]
  },
  {
   "cell_type": "code",
   "execution_count": 15,
   "id": "12f245fc",
   "metadata": {
    "execution": {
     "iopub.execute_input": "2022-09-03T05:49:54.020188Z",
     "iopub.status.busy": "2022-09-03T05:49:54.019762Z",
     "iopub.status.idle": "2022-09-03T05:49:54.027146Z",
     "shell.execute_reply": "2022-09-03T05:49:54.026234Z"
    },
    "papermill": {
     "duration": 0.051661,
     "end_time": "2022-09-03T05:49:54.030643",
     "exception": false,
     "start_time": "2022-09-03T05:49:53.978982",
     "status": "completed"
    },
    "tags": []
   },
   "outputs": [
    {
     "data": {
      "text/plain": [
       "True"
      ]
     },
     "execution_count": 15,
     "metadata": {},
     "output_type": "execute_result"
    }
   ],
   "source": [
    "X_train.shape[0] == y_train.shape[0]"
   ]
  },
  {
   "cell_type": "code",
   "execution_count": 16,
   "id": "431fc96d",
   "metadata": {
    "execution": {
     "iopub.execute_input": "2022-09-03T05:49:54.095660Z",
     "iopub.status.busy": "2022-09-03T05:49:54.095294Z",
     "iopub.status.idle": "2022-09-03T05:49:54.104323Z",
     "shell.execute_reply": "2022-09-03T05:49:54.102381Z"
    },
    "papermill": {
     "duration": 0.045036,
     "end_time": "2022-09-03T05:49:54.107360",
     "exception": false,
     "start_time": "2022-09-03T05:49:54.062324",
     "status": "completed"
    },
    "tags": []
   },
   "outputs": [
    {
     "data": {
      "text/plain": [
       "True"
      ]
     },
     "execution_count": 16,
     "metadata": {},
     "output_type": "execute_result"
    }
   ],
   "source": [
    "X_test.shape[0] == y_test.shape[0]"
   ]
  },
  {
   "cell_type": "code",
   "execution_count": 17,
   "id": "bf7c0435",
   "metadata": {
    "execution": {
     "iopub.execute_input": "2022-09-03T05:49:54.175230Z",
     "iopub.status.busy": "2022-09-03T05:49:54.174791Z",
     "iopub.status.idle": "2022-09-03T05:49:54.181578Z",
     "shell.execute_reply": "2022-09-03T05:49:54.180600Z"
    },
    "papermill": {
     "duration": 0.045358,
     "end_time": "2022-09-03T05:49:54.187903",
     "exception": false,
     "start_time": "2022-09-03T05:49:54.142545",
     "status": "completed"
    },
    "tags": []
   },
   "outputs": [
    {
     "name": "stdout",
     "output_type": "stream",
     "text": [
      "X_train shape: (2657, 41)\n",
      "X_test shape: (1139, 41)\n",
      "y_train shape: (2657,)\n",
      "y_test shape: (1139,)\n"
     ]
    }
   ],
   "source": [
    "print(\"X_train shape:\",X_train.shape)\n",
    "print(\"X_test shape:\",X_test.shape)\n",
    "print(\"y_train shape:\",y_train.shape)\n",
    "print(\"y_test shape:\",y_test.shape)\n"
   ]
  },
  {
   "cell_type": "code",
   "execution_count": 18,
   "id": "2551f928",
   "metadata": {
    "execution": {
     "iopub.execute_input": "2022-09-03T05:49:54.250932Z",
     "iopub.status.busy": "2022-09-03T05:49:54.250510Z",
     "iopub.status.idle": "2022-09-03T05:49:54.270644Z",
     "shell.execute_reply": "2022-09-03T05:49:54.269319Z"
    },
    "papermill": {
     "duration": 0.054787,
     "end_time": "2022-09-03T05:49:54.273973",
     "exception": false,
     "start_time": "2022-09-03T05:49:54.219186",
     "status": "completed"
    },
    "tags": []
   },
   "outputs": [],
   "source": [
    "sc = StandardScaler()\n",
    "X_train = sc.fit_transform(X_train)\n",
    "X_test = sc.transform(X_test)"
   ]
  },
  {
   "cell_type": "code",
   "execution_count": 19,
   "id": "9b27137f",
   "metadata": {
    "execution": {
     "iopub.execute_input": "2022-09-03T05:49:54.336670Z",
     "iopub.status.busy": "2022-09-03T05:49:54.336167Z",
     "iopub.status.idle": "2022-09-03T05:49:54.351548Z",
     "shell.execute_reply": "2022-09-03T05:49:54.350461Z"
    },
    "papermill": {
     "duration": 0.049797,
     "end_time": "2022-09-03T05:49:54.355098",
     "exception": false,
     "start_time": "2022-09-03T05:49:54.305301",
     "status": "completed"
    },
    "tags": []
   },
   "outputs": [
    {
     "data": {
      "text/plain": [
       "array([[-2.96071328e-01, -1.15572998e+00, -6.28811283e-01,\n",
       "         1.28330877e+00,  3.10764371e-01, -5.28568681e-01,\n",
       "        -1.96825149e-01, -1.20759935e+00,  1.49875295e-02,\n",
       "        -8.89129757e-01, -8.02200725e-01,  1.06979968e+00,\n",
       "        -4.66572816e-01, -5.94592717e-01,  6.13164741e-01,\n",
       "        -9.29114555e-01, -7.63827636e-01, -5.17348551e-01,\n",
       "        -2.10756350e-01, -5.03722276e-01, -3.99262024e-02,\n",
       "        -4.60320136e-01,  3.77738466e-01,  3.45447836e-01,\n",
       "        -4.33974273e-01, -4.90994977e-01, -1.99256772e-02,\n",
       "        -4.30821128e-01,  4.64772052e-01,  3.97753462e-01,\n",
       "        -4.36599026e-01, -3.78846742e-01, -5.74259925e-01,\n",
       "         3.76868528e-01, -6.63419941e-01, -3.60790912e-01,\n",
       "         7.97211853e-01,  5.23234530e-01,  5.41536378e-01,\n",
       "        -1.60796704e+00, -4.88307963e-01],\n",
       "       [-2.96071328e-01,  1.55145684e+00, -6.28811283e-01,\n",
       "        -3.38987222e-03,  3.10764371e-01,  2.34614252e+00,\n",
       "        -1.96825149e-01, -1.20759935e+00, -1.55310734e+00,\n",
       "         8.51401815e-01, -8.02200725e-01,  1.06979968e+00,\n",
       "        -4.66572816e-01, -5.94592717e-01,  6.13164741e-01,\n",
       "        -9.29114555e-01, -7.63827636e-01, -5.17348551e-01,\n",
       "        -2.10756350e-01,  4.21006020e-01, -3.44765052e-01,\n",
       "        -6.70505838e-01,  1.12292525e-01,  1.53828859e-01,\n",
       "        -4.33974273e-01,  2.12089719e-01, -3.42745948e-01,\n",
       "        -6.52875782e-01,  1.92887565e-01,  3.97753462e-01,\n",
       "        -4.36599026e-01,  2.63415761e-04, -6.13849158e-01,\n",
       "         3.02198379e-01,  7.42023196e-01, -2.24487563e-01,\n",
       "         1.13244306e+00,  5.23234530e-01, -3.02503055e-01,\n",
       "         3.90438230e-01,  6.25688252e-01],\n",
       "       [ 5.43331073e+00,  9.41891594e-01, -2.44553790e-01,\n",
       "        -1.71159324e+00,  3.10764371e-01,  1.34826211e-01,\n",
       "        -1.28490585e-01,  1.16631967e+00,  8.47432954e-01,\n",
       "         8.70528536e-01,  6.55890019e-02, -9.34754442e-01,\n",
       "         2.14328818e+00, -5.94592717e-01, -1.63088308e+00,\n",
       "         1.07629355e+00,  1.30919589e+00,  3.42168344e+00,\n",
       "        -2.10756350e-01,  4.21006020e-01,  1.48426805e+00,\n",
       "        -2.50134434e-01,  3.77738466e-01,  5.37066813e-01,\n",
       "         1.78432054e+00,  1.26671676e+00,  3.02894593e-01,\n",
       "         2.35342832e-01,  1.55231000e+00,  1.11815629e+00,\n",
       "         1.70212445e+00, -7.28794581e-01,  1.72191558e+00,\n",
       "         3.78247661e+00, -6.63419941e-01,  5.93332530e-01,\n",
       "        -6.10759209e-01,  1.52418310e+00, -1.65296615e+00,\n",
       "         2.57211213e-01,  1.36835240e+00],\n",
       "       [ 2.24781587e-01, -1.15572998e+00, -2.44553790e-01,\n",
       "         6.39959448e-01,  3.10764371e-01,  1.34826211e-01,\n",
       "         1.44847673e-01, -1.05607260e+00, -1.00137026e+00,\n",
       "        -8.12622875e-01, -1.06921295e+00, -9.34754442e-01,\n",
       "         2.14328818e+00,  1.68182349e+00, -1.63088308e+00,\n",
       "         1.07629355e+00,  1.30919589e+00,  2.45044738e-01,\n",
       "        -2.10756350e-01,  1.96221985e+00,  8.74590346e-01,\n",
       "        -1.51124865e+00, -1.48038312e+00, -1.95397989e+00,\n",
       "         4.53343652e-01,  2.32134381e+00,  3.02894593e-01,\n",
       "         1.32881784e-02, -7.89969230e-02, -1.22315290e+00,\n",
       "         4.18890364e-01,  1.83748957e+00,  2.63246793e+00,\n",
       "         7.92424138e-01,  1.02311182e+00,  3.88877507e-01,\n",
       "         1.13244306e+00,  2.27602468e-02, -1.20281178e+00,\n",
       "         8.78937296e-01,  1.73968447e+00],\n",
       "       [-2.96071328e-01, -1.15572998e+00, -6.28811283e-01,\n",
       "        -1.84470000e+00,  3.10764371e-01, -5.28568681e-01,\n",
       "        -1.96825149e-01, -1.20759935e+00, -1.03040905e+00,\n",
       "        -9.08256478e-01, -1.11371499e+00, -9.34754442e-01,\n",
       "        -4.66572816e-01, -5.94592717e-01,  6.13164741e-01,\n",
       "         1.07629355e+00, -7.63827636e-01, -6.44414099e-01,\n",
       "        -2.10756350e-01,  7.29248786e-01,  8.74590346e-01,\n",
       "         1.70236971e-01, -1.53153417e-01, -3.77901182e-02,\n",
       "        -4.33974273e-01,  2.12089719e-01, -1.99256772e-02,\n",
       "        -2.08766475e-01, -8.94650386e-01, -1.42548659e-01,\n",
       "        -4.36599026e-01, -1.02041778e+00, -2.57546063e-01,\n",
       "         8.60601230e-01, -1.01242686e-01, -6.67473446e-01,\n",
       "        -8.78944174e-01,  1.19053357e+00,  9.91690743e-01,\n",
       "        -4.97741888e-01,  2.54356180e-01]])"
      ]
     },
     "execution_count": 19,
     "metadata": {},
     "output_type": "execute_result"
    }
   ],
   "source": [
    "X_train[:5]"
   ]
  },
  {
   "cell_type": "code",
   "execution_count": 20,
   "id": "a57a7094",
   "metadata": {
    "execution": {
     "iopub.execute_input": "2022-09-03T05:49:54.421073Z",
     "iopub.status.busy": "2022-09-03T05:49:54.420602Z",
     "iopub.status.idle": "2022-09-03T05:49:54.468625Z",
     "shell.execute_reply": "2022-09-03T05:49:54.467340Z"
    },
    "papermill": {
     "duration": 0.083727,
     "end_time": "2022-09-03T05:49:54.471820",
     "exception": false,
     "start_time": "2022-09-03T05:49:54.388093",
     "status": "completed"
    },
    "tags": []
   },
   "outputs": [
    {
     "data": {
      "text/html": [
       "<div>\n",
       "<style scoped>\n",
       "    .dataframe tbody tr th:only-of-type {\n",
       "        vertical-align: middle;\n",
       "    }\n",
       "\n",
       "    .dataframe tbody tr th {\n",
       "        vertical-align: top;\n",
       "    }\n",
       "\n",
       "    .dataframe thead th {\n",
       "        text-align: right;\n",
       "    }\n",
       "</style>\n",
       "<table border=\"1\" class=\"dataframe\">\n",
       "  <thead>\n",
       "    <tr style=\"text-align: right;\">\n",
       "      <th></th>\n",
       "      <th>0</th>\n",
       "      <th>1</th>\n",
       "      <th>2</th>\n",
       "      <th>3</th>\n",
       "      <th>4</th>\n",
       "      <th>5</th>\n",
       "      <th>6</th>\n",
       "      <th>7</th>\n",
       "      <th>8</th>\n",
       "      <th>9</th>\n",
       "      <th>...</th>\n",
       "      <th>31</th>\n",
       "      <th>32</th>\n",
       "      <th>33</th>\n",
       "      <th>34</th>\n",
       "      <th>35</th>\n",
       "      <th>36</th>\n",
       "      <th>37</th>\n",
       "      <th>38</th>\n",
       "      <th>39</th>\n",
       "      <th>40</th>\n",
       "    </tr>\n",
       "  </thead>\n",
       "  <tbody>\n",
       "    <tr>\n",
       "      <th>0</th>\n",
       "      <td>-0.296071</td>\n",
       "      <td>-1.155730</td>\n",
       "      <td>-0.628811</td>\n",
       "      <td>1.283309</td>\n",
       "      <td>0.310764</td>\n",
       "      <td>-0.528569</td>\n",
       "      <td>-0.196825</td>\n",
       "      <td>-1.207599</td>\n",
       "      <td>0.014988</td>\n",
       "      <td>-0.889130</td>\n",
       "      <td>...</td>\n",
       "      <td>-0.378847</td>\n",
       "      <td>-0.574260</td>\n",
       "      <td>0.376869</td>\n",
       "      <td>-0.663420</td>\n",
       "      <td>-0.360791</td>\n",
       "      <td>0.797212</td>\n",
       "      <td>0.523235</td>\n",
       "      <td>0.541536</td>\n",
       "      <td>-1.607967</td>\n",
       "      <td>-0.488308</td>\n",
       "    </tr>\n",
       "    <tr>\n",
       "      <th>1</th>\n",
       "      <td>-0.296071</td>\n",
       "      <td>1.551457</td>\n",
       "      <td>-0.628811</td>\n",
       "      <td>-0.003390</td>\n",
       "      <td>0.310764</td>\n",
       "      <td>2.346143</td>\n",
       "      <td>-0.196825</td>\n",
       "      <td>-1.207599</td>\n",
       "      <td>-1.553107</td>\n",
       "      <td>0.851402</td>\n",
       "      <td>...</td>\n",
       "      <td>0.000263</td>\n",
       "      <td>-0.613849</td>\n",
       "      <td>0.302198</td>\n",
       "      <td>0.742023</td>\n",
       "      <td>-0.224488</td>\n",
       "      <td>1.132443</td>\n",
       "      <td>0.523235</td>\n",
       "      <td>-0.302503</td>\n",
       "      <td>0.390438</td>\n",
       "      <td>0.625688</td>\n",
       "    </tr>\n",
       "    <tr>\n",
       "      <th>2</th>\n",
       "      <td>5.433311</td>\n",
       "      <td>0.941892</td>\n",
       "      <td>-0.244554</td>\n",
       "      <td>-1.711593</td>\n",
       "      <td>0.310764</td>\n",
       "      <td>0.134826</td>\n",
       "      <td>-0.128491</td>\n",
       "      <td>1.166320</td>\n",
       "      <td>0.847433</td>\n",
       "      <td>0.870529</td>\n",
       "      <td>...</td>\n",
       "      <td>-0.728795</td>\n",
       "      <td>1.721916</td>\n",
       "      <td>3.782477</td>\n",
       "      <td>-0.663420</td>\n",
       "      <td>0.593333</td>\n",
       "      <td>-0.610759</td>\n",
       "      <td>1.524183</td>\n",
       "      <td>-1.652966</td>\n",
       "      <td>0.257211</td>\n",
       "      <td>1.368352</td>\n",
       "    </tr>\n",
       "    <tr>\n",
       "      <th>3</th>\n",
       "      <td>0.224782</td>\n",
       "      <td>-1.155730</td>\n",
       "      <td>-0.244554</td>\n",
       "      <td>0.639959</td>\n",
       "      <td>0.310764</td>\n",
       "      <td>0.134826</td>\n",
       "      <td>0.144848</td>\n",
       "      <td>-1.056073</td>\n",
       "      <td>-1.001370</td>\n",
       "      <td>-0.812623</td>\n",
       "      <td>...</td>\n",
       "      <td>1.837490</td>\n",
       "      <td>2.632468</td>\n",
       "      <td>0.792424</td>\n",
       "      <td>1.023112</td>\n",
       "      <td>0.388878</td>\n",
       "      <td>1.132443</td>\n",
       "      <td>0.022760</td>\n",
       "      <td>-1.202812</td>\n",
       "      <td>0.878937</td>\n",
       "      <td>1.739684</td>\n",
       "    </tr>\n",
       "    <tr>\n",
       "      <th>4</th>\n",
       "      <td>-0.296071</td>\n",
       "      <td>-1.155730</td>\n",
       "      <td>-0.628811</td>\n",
       "      <td>-1.844700</td>\n",
       "      <td>0.310764</td>\n",
       "      <td>-0.528569</td>\n",
       "      <td>-0.196825</td>\n",
       "      <td>-1.207599</td>\n",
       "      <td>-1.030409</td>\n",
       "      <td>-0.908256</td>\n",
       "      <td>...</td>\n",
       "      <td>-1.020418</td>\n",
       "      <td>-0.257546</td>\n",
       "      <td>0.860601</td>\n",
       "      <td>-0.101243</td>\n",
       "      <td>-0.667473</td>\n",
       "      <td>-0.878944</td>\n",
       "      <td>1.190534</td>\n",
       "      <td>0.991691</td>\n",
       "      <td>-0.497742</td>\n",
       "      <td>0.254356</td>\n",
       "    </tr>\n",
       "    <tr>\n",
       "      <th>...</th>\n",
       "      <td>...</td>\n",
       "      <td>...</td>\n",
       "      <td>...</td>\n",
       "      <td>...</td>\n",
       "      <td>...</td>\n",
       "      <td>...</td>\n",
       "      <td>...</td>\n",
       "      <td>...</td>\n",
       "      <td>...</td>\n",
       "      <td>...</td>\n",
       "      <td>...</td>\n",
       "      <td>...</td>\n",
       "      <td>...</td>\n",
       "      <td>...</td>\n",
       "      <td>...</td>\n",
       "      <td>...</td>\n",
       "      <td>...</td>\n",
       "      <td>...</td>\n",
       "      <td>...</td>\n",
       "      <td>...</td>\n",
       "      <td>...</td>\n",
       "    </tr>\n",
       "    <tr>\n",
       "      <th>2652</th>\n",
       "      <td>-0.296071</td>\n",
       "      <td>-1.155730</td>\n",
       "      <td>-0.628811</td>\n",
       "      <td>0.462484</td>\n",
       "      <td>0.310764</td>\n",
       "      <td>-0.528569</td>\n",
       "      <td>-0.196825</td>\n",
       "      <td>1.090556</td>\n",
       "      <td>-1.553107</td>\n",
       "      <td>0.851402</td>\n",
       "      <td>...</td>\n",
       "      <td>1.108432</td>\n",
       "      <td>-0.693028</td>\n",
       "      <td>-0.577611</td>\n",
       "      <td>-0.101243</td>\n",
       "      <td>-1.519369</td>\n",
       "      <td>-1.013037</td>\n",
       "      <td>-0.561126</td>\n",
       "      <td>-0.527580</td>\n",
       "      <td>0.523665</td>\n",
       "      <td>0.254356</td>\n",
       "    </tr>\n",
       "    <tr>\n",
       "      <th>2653</th>\n",
       "      <td>-0.296071</td>\n",
       "      <td>0.816393</td>\n",
       "      <td>-0.628811</td>\n",
       "      <td>0.462484</td>\n",
       "      <td>0.310764</td>\n",
       "      <td>-0.528569</td>\n",
       "      <td>-0.196825</td>\n",
       "      <td>1.065302</td>\n",
       "      <td>0.818394</td>\n",
       "      <td>0.851402</td>\n",
       "      <td>...</td>\n",
       "      <td>0.437698</td>\n",
       "      <td>-0.930563</td>\n",
       "      <td>-0.022454</td>\n",
       "      <td>0.742023</td>\n",
       "      <td>-0.701549</td>\n",
       "      <td>0.797212</td>\n",
       "      <td>1.524183</td>\n",
       "      <td>-0.415042</td>\n",
       "      <td>-1.075059</td>\n",
       "      <td>-1.230972</td>\n",
       "    </tr>\n",
       "    <tr>\n",
       "      <th>2654</th>\n",
       "      <td>-0.296071</td>\n",
       "      <td>-1.155730</td>\n",
       "      <td>-0.628811</td>\n",
       "      <td>1.283309</td>\n",
       "      <td>0.310764</td>\n",
       "      <td>-0.528569</td>\n",
       "      <td>-0.196825</td>\n",
       "      <td>1.090556</td>\n",
       "      <td>0.818394</td>\n",
       "      <td>0.851402</td>\n",
       "      <td>...</td>\n",
       "      <td>0.087750</td>\n",
       "      <td>0.653006</td>\n",
       "      <td>-0.830840</td>\n",
       "      <td>0.460935</td>\n",
       "      <td>-1.417142</td>\n",
       "      <td>-0.543713</td>\n",
       "      <td>0.606647</td>\n",
       "      <td>-0.696388</td>\n",
       "      <td>-1.741194</td>\n",
       "      <td>0.254356</td>\n",
       "    </tr>\n",
       "    <tr>\n",
       "      <th>2655</th>\n",
       "      <td>-0.296071</td>\n",
       "      <td>1.730741</td>\n",
       "      <td>-0.628811</td>\n",
       "      <td>-0.092128</td>\n",
       "      <td>0.310764</td>\n",
       "      <td>2.788406</td>\n",
       "      <td>-0.196825</td>\n",
       "      <td>-1.157090</td>\n",
       "      <td>-0.972331</td>\n",
       "      <td>-0.908256</td>\n",
       "      <td>...</td>\n",
       "      <td>-1.020418</td>\n",
       "      <td>-0.257546</td>\n",
       "      <td>0.860601</td>\n",
       "      <td>-1.506686</td>\n",
       "      <td>-0.565246</td>\n",
       "      <td>-0.610759</td>\n",
       "      <td>-0.978188</td>\n",
       "      <td>-0.189964</td>\n",
       "      <td>-1.741194</td>\n",
       "      <td>-0.488308</td>\n",
       "    </tr>\n",
       "    <tr>\n",
       "      <th>2656</th>\n",
       "      <td>-0.296071</td>\n",
       "      <td>0.386112</td>\n",
       "      <td>-0.244554</td>\n",
       "      <td>-1.778147</td>\n",
       "      <td>-3.217872</td>\n",
       "      <td>-0.528569</td>\n",
       "      <td>-0.196825</td>\n",
       "      <td>-1.157090</td>\n",
       "      <td>-1.553107</td>\n",
       "      <td>-0.889130</td>\n",
       "      <td>...</td>\n",
       "      <td>-0.466334</td>\n",
       "      <td>-0.257546</td>\n",
       "      <td>0.285966</td>\n",
       "      <td>0.742023</td>\n",
       "      <td>1.036318</td>\n",
       "      <td>-0.141436</td>\n",
       "      <td>-0.894776</td>\n",
       "      <td>1.385576</td>\n",
       "      <td>0.701301</td>\n",
       "      <td>-0.116976</td>\n",
       "    </tr>\n",
       "  </tbody>\n",
       "</table>\n",
       "<p>2657 rows × 41 columns</p>\n",
       "</div>"
      ],
      "text/plain": [
       "            0         1         2         3         4         5         6   \\\n",
       "0    -0.296071 -1.155730 -0.628811  1.283309  0.310764 -0.528569 -0.196825   \n",
       "1    -0.296071  1.551457 -0.628811 -0.003390  0.310764  2.346143 -0.196825   \n",
       "2     5.433311  0.941892 -0.244554 -1.711593  0.310764  0.134826 -0.128491   \n",
       "3     0.224782 -1.155730 -0.244554  0.639959  0.310764  0.134826  0.144848   \n",
       "4    -0.296071 -1.155730 -0.628811 -1.844700  0.310764 -0.528569 -0.196825   \n",
       "...        ...       ...       ...       ...       ...       ...       ...   \n",
       "2652 -0.296071 -1.155730 -0.628811  0.462484  0.310764 -0.528569 -0.196825   \n",
       "2653 -0.296071  0.816393 -0.628811  0.462484  0.310764 -0.528569 -0.196825   \n",
       "2654 -0.296071 -1.155730 -0.628811  1.283309  0.310764 -0.528569 -0.196825   \n",
       "2655 -0.296071  1.730741 -0.628811 -0.092128  0.310764  2.788406 -0.196825   \n",
       "2656 -0.296071  0.386112 -0.244554 -1.778147 -3.217872 -0.528569 -0.196825   \n",
       "\n",
       "            7         8         9   ...        31        32        33  \\\n",
       "0    -1.207599  0.014988 -0.889130  ... -0.378847 -0.574260  0.376869   \n",
       "1    -1.207599 -1.553107  0.851402  ...  0.000263 -0.613849  0.302198   \n",
       "2     1.166320  0.847433  0.870529  ... -0.728795  1.721916  3.782477   \n",
       "3    -1.056073 -1.001370 -0.812623  ...  1.837490  2.632468  0.792424   \n",
       "4    -1.207599 -1.030409 -0.908256  ... -1.020418 -0.257546  0.860601   \n",
       "...        ...       ...       ...  ...       ...       ...       ...   \n",
       "2652  1.090556 -1.553107  0.851402  ...  1.108432 -0.693028 -0.577611   \n",
       "2653  1.065302  0.818394  0.851402  ...  0.437698 -0.930563 -0.022454   \n",
       "2654  1.090556  0.818394  0.851402  ...  0.087750  0.653006 -0.830840   \n",
       "2655 -1.157090 -0.972331 -0.908256  ... -1.020418 -0.257546  0.860601   \n",
       "2656 -1.157090 -1.553107 -0.889130  ... -0.466334 -0.257546  0.285966   \n",
       "\n",
       "            34        35        36        37        38        39        40  \n",
       "0    -0.663420 -0.360791  0.797212  0.523235  0.541536 -1.607967 -0.488308  \n",
       "1     0.742023 -0.224488  1.132443  0.523235 -0.302503  0.390438  0.625688  \n",
       "2    -0.663420  0.593333 -0.610759  1.524183 -1.652966  0.257211  1.368352  \n",
       "3     1.023112  0.388878  1.132443  0.022760 -1.202812  0.878937  1.739684  \n",
       "4    -0.101243 -0.667473 -0.878944  1.190534  0.991691 -0.497742  0.254356  \n",
       "...        ...       ...       ...       ...       ...       ...       ...  \n",
       "2652 -0.101243 -1.519369 -1.013037 -0.561126 -0.527580  0.523665  0.254356  \n",
       "2653  0.742023 -0.701549  0.797212  1.524183 -0.415042 -1.075059 -1.230972  \n",
       "2654  0.460935 -1.417142 -0.543713  0.606647 -0.696388 -1.741194  0.254356  \n",
       "2655 -1.506686 -0.565246 -0.610759 -0.978188 -0.189964 -1.741194 -0.488308  \n",
       "2656  0.742023  1.036318 -0.141436 -0.894776  1.385576  0.701301 -0.116976  \n",
       "\n",
       "[2657 rows x 41 columns]"
      ]
     },
     "execution_count": 20,
     "metadata": {},
     "output_type": "execute_result"
    }
   ],
   "source": [
    "pd.DataFrame(X_train)"
   ]
  },
  {
   "cell_type": "code",
   "execution_count": 21,
   "id": "2a8e375b",
   "metadata": {
    "execution": {
     "iopub.execute_input": "2022-09-03T05:49:54.514076Z",
     "iopub.status.busy": "2022-09-03T05:49:54.513690Z",
     "iopub.status.idle": "2022-09-03T05:49:54.522277Z",
     "shell.execute_reply": "2022-09-03T05:49:54.521249Z"
    },
    "papermill": {
     "duration": 0.03236,
     "end_time": "2022-09-03T05:49:54.524542",
     "exception": false,
     "start_time": "2022-09-03T05:49:54.492182",
     "status": "completed"
    },
    "tags": []
   },
   "outputs": [
    {
     "data": {
      "text/plain": [
       "2577    1\n",
       "2964    1\n",
       "3011    1\n",
       "2665    0\n",
       "3640    2\n",
       "       ..\n",
       "1130    1\n",
       "1294    0\n",
       "860     1\n",
       "3507    1\n",
       "3174    1\n",
       "Name: label, Length: 2657, dtype: int64"
      ]
     },
     "execution_count": 21,
     "metadata": {},
     "output_type": "execute_result"
    }
   ],
   "source": [
    "y_train"
   ]
  },
  {
   "cell_type": "code",
   "execution_count": 22,
   "id": "5b3f5b6d",
   "metadata": {
    "execution": {
     "iopub.execute_input": "2022-09-03T05:49:54.566302Z",
     "iopub.status.busy": "2022-09-03T05:49:54.565901Z",
     "iopub.status.idle": "2022-09-03T05:49:54.732969Z",
     "shell.execute_reply": "2022-09-03T05:49:54.731977Z"
    },
    "papermill": {
     "duration": 0.190534,
     "end_time": "2022-09-03T05:49:54.735526",
     "exception": false,
     "start_time": "2022-09-03T05:49:54.544992",
     "status": "completed"
    },
    "tags": []
   },
   "outputs": [],
   "source": [
    "#importing the modules\n",
    "from sklearn.ensemble import RandomForestClassifier\n",
    "from sklearn.tree import DecisionTreeClassifier\n",
    "from sklearn.linear_model import LogisticRegression\n",
    "from sklearn.metrics import roc_auc_score,accuracy_score,classification_report,precision_score,recall_score,f1_score\n",
    "from sklearn.neighbors import KNeighborsClassifier\n",
    "from sklearn.svm import SVC\n",
    "from sklearn.ensemble import GradientBoostingClassifier\n",
    "from sklearn.ensemble import AdaBoostClassifier\n",
    "from sklearn.ensemble import BaggingClassifier\n",
    "from sklearn.svm import NuSVC\n",
    "from xgboost import XGBClassifier\n",
    "\n"
   ]
  },
  {
   "cell_type": "code",
   "execution_count": 23,
   "id": "660e7115",
   "metadata": {
    "execution": {
     "iopub.execute_input": "2022-09-03T05:49:54.779735Z",
     "iopub.status.busy": "2022-09-03T05:49:54.778779Z",
     "iopub.status.idle": "2022-09-03T05:49:54.784792Z",
     "shell.execute_reply": "2022-09-03T05:49:54.783905Z"
    },
    "papermill": {
     "duration": 0.031821,
     "end_time": "2022-09-03T05:49:54.787716",
     "exception": false,
     "start_time": "2022-09-03T05:49:54.755895",
     "status": "completed"
    },
    "tags": []
   },
   "outputs": [],
   "source": [
    "#import sklearn\n",
    "#dir(sklearn.ensemble)"
   ]
  },
  {
   "cell_type": "code",
   "execution_count": 24,
   "id": "53f3a349",
   "metadata": {
    "execution": {
     "iopub.execute_input": "2022-09-03T05:49:54.835621Z",
     "iopub.status.busy": "2022-09-03T05:49:54.835295Z",
     "iopub.status.idle": "2022-09-03T05:49:54.841273Z",
     "shell.execute_reply": "2022-09-03T05:49:54.840171Z"
    },
    "papermill": {
     "duration": 0.028141,
     "end_time": "2022-09-03T05:49:54.843233",
     "exception": false,
     "start_time": "2022-09-03T05:49:54.815092",
     "status": "completed"
    },
    "tags": []
   },
   "outputs": [],
   "source": [
    "models = {\n",
    "    \"Logistic Regression\": LogisticRegression(),\n",
    "    \"Decision Tree\": DecisionTreeClassifier(),\n",
    "    \"Random Forest\" : RandomForestClassifier(),\n",
    "    \"Knn\" : KNeighborsClassifier(),\n",
    "    \"svm_ovr\" : SVC(decision_function_shape='ovr'),\n",
    "    \"svm_ovo\" : SVC(decision_function_shape = \"ovo\"),\n",
    "    \"gradient boosting\": GradientBoostingClassifier(),\n",
    "    \"Adaboost\" :  AdaBoostClassifier(),\n",
    "    \"Bagging\" : BaggingClassifier(),\n",
    "    \"Xgboost\" : XGBClassifier(),\n",
    "    \"nusvm\" : NuSVC()\n",
    "\n",
    "}"
   ]
  },
  {
   "cell_type": "code",
   "execution_count": 25,
   "id": "6c5a0fc7",
   "metadata": {
    "execution": {
     "iopub.execute_input": "2022-09-03T05:49:54.884663Z",
     "iopub.status.busy": "2022-09-03T05:49:54.883848Z",
     "iopub.status.idle": "2022-09-03T05:50:08.104946Z",
     "shell.execute_reply": "2022-09-03T05:50:08.103652Z"
    },
    "papermill": {
     "duration": 13.245673,
     "end_time": "2022-09-03T05:50:08.108752",
     "exception": false,
     "start_time": "2022-09-03T05:49:54.863079",
     "status": "completed"
    },
    "tags": []
   },
   "outputs": [
    {
     "name": "stdout",
     "output_type": "stream",
     "text": [
      "Logistic Regression\n",
      "Model performance for Training set\n",
      "Accuracy : 0.7433\n",
      "F1 score : 0.7433\n",
      "Precision score : 0.7433\n",
      "Recall:0.7433\n",
      "--------------------------\n",
      "Model performance for Test set\n",
      "Accuracy : 0.7296\n",
      "F1 score : 0.7296\n",
      "Precision score : 0.7296\n",
      "Recall:0.7296\n",
      "Decision Tree\n",
      "Model performance for Training set\n",
      "Accuracy : 1.0000\n",
      "F1 score : 1.0000\n",
      "Precision score : 1.0000\n",
      "Recall:1.0000\n",
      "--------------------------\n",
      "Model performance for Test set\n",
      "Accuracy : 0.6392\n",
      "F1 score : 0.6392\n",
      "Precision score : 0.6392\n",
      "Recall:0.6392\n",
      "Random Forest\n",
      "Model performance for Training set\n",
      "Accuracy : 1.0000\n",
      "F1 score : 1.0000\n",
      "Precision score : 1.0000\n",
      "Recall:1.0000\n",
      "--------------------------\n",
      "Model performance for Test set\n",
      "Accuracy : 0.7313\n",
      "F1 score : 0.7313\n",
      "Precision score : 0.7313\n",
      "Recall:0.7313\n",
      "Knn\n",
      "Model performance for Training set\n",
      "Accuracy : 0.7516\n",
      "F1 score : 0.7516\n",
      "Precision score : 0.7516\n",
      "Recall:0.7516\n",
      "--------------------------\n",
      "Model performance for Test set\n",
      "Accuracy : 0.6418\n",
      "F1 score : 0.6418\n",
      "Precision score : 0.6418\n",
      "Recall:0.6418\n",
      "svm_ovr\n",
      "Model performance for Training set\n",
      "Accuracy : 0.8318\n",
      "F1 score : 0.8318\n",
      "Precision score : 0.8318\n",
      "Recall:0.8318\n",
      "--------------------------\n",
      "Model performance for Test set\n",
      "Accuracy : 0.7375\n",
      "F1 score : 0.7375\n",
      "Precision score : 0.7375\n",
      "Recall:0.7375\n",
      "svm_ovo\n",
      "Model performance for Training set\n",
      "Accuracy : 0.8318\n",
      "F1 score : 0.8318\n",
      "Precision score : 0.8318\n",
      "Recall:0.8318\n",
      "--------------------------\n",
      "Model performance for Test set\n",
      "Accuracy : 0.7375\n",
      "F1 score : 0.7375\n",
      "Precision score : 0.7375\n",
      "Recall:0.7375\n",
      "gradient boosting\n",
      "Model performance for Training set\n",
      "Accuracy : 0.8525\n",
      "F1 score : 0.8525\n",
      "Precision score : 0.8525\n",
      "Recall:0.8525\n",
      "--------------------------\n",
      "Model performance for Test set\n",
      "Accuracy : 0.7234\n",
      "F1 score : 0.7234\n",
      "Precision score : 0.7234\n",
      "Recall:0.7234\n",
      "Adaboost\n",
      "Model performance for Training set\n",
      "Accuracy : 0.7433\n",
      "F1 score : 0.7433\n",
      "Precision score : 0.7433\n",
      "Recall:0.7433\n",
      "--------------------------\n",
      "Model performance for Test set\n",
      "Accuracy : 0.7226\n",
      "F1 score : 0.7226\n",
      "Precision score : 0.7226\n",
      "Recall:0.7226\n",
      "Bagging\n",
      "Model performance for Training set\n",
      "Accuracy : 0.9823\n",
      "F1 score : 0.9823\n",
      "Precision score : 0.9823\n",
      "Recall:0.9823\n",
      "--------------------------\n",
      "Model performance for Test set\n",
      "Accuracy : 0.7103\n",
      "F1 score : 0.7103\n",
      "Precision score : 0.7103\n",
      "Recall:0.7103\n",
      "Xgboost\n",
      "Model performance for Training set\n",
      "Accuracy : 1.0000\n",
      "F1 score : 1.0000\n",
      "Precision score : 1.0000\n",
      "Recall:1.0000\n",
      "--------------------------\n",
      "Model performance for Test set\n",
      "Accuracy : 0.7445\n",
      "F1 score : 0.7445\n",
      "Precision score : 0.7445\n",
      "Recall:0.7445\n",
      "nusvm\n",
      "Model performance for Training set\n",
      "Accuracy : 0.7813\n",
      "F1 score : 0.7813\n",
      "Precision score : 0.7813\n",
      "Recall:0.7813\n",
      "--------------------------\n",
      "Model performance for Test set\n",
      "Accuracy : 0.7234\n",
      "F1 score : 0.7234\n",
      "Precision score : 0.7234\n",
      "Recall:0.7234\n"
     ]
    }
   ],
   "source": [
    "for i in range(len(list(models))):\n",
    "    model = list(models.values())[i]\n",
    "    model.fit(X_train,y_train)#Train model\n",
    "    \n",
    "    #make predictions\n",
    "    y_train_pred = model.predict(X_train)\n",
    "    y_test_pred = model.predict(X_test)\n",
    "    \n",
    "    #Training set performance\n",
    "    model_train_accuracy = accuracy_score(y_train,y_train_pred)\n",
    "    model_train_f1 = f1_score(y_train,y_train_pred,average = \"micro\")\n",
    "    model_train_precision = precision_score(y_train,y_train_pred,average = \"micro\")\n",
    "    model_train_recall = recall_score(y_train,y_train_pred,average = \"micro\")\n",
    "    #model_train_roauc_score = roc_auc_score(y_train,y_train_pred,)\n",
    "    \n",
    "    \n",
    "    #Testing set performance\n",
    "    model_test_accuracy = accuracy_score(y_test,y_test_pred)\n",
    "    model_test_f1 = f1_score(y_test,y_test_pred,average = \"micro\")\n",
    "    model_test_precision = precision_score(y_test,y_test_pred,average = \"micro\")\n",
    "    model_test_recall = recall_score(y_test,y_test_pred,average = \"micro\")\n",
    "    #model_test_roauc_score = roc_auc_score(y_test,y_test_pred)\n",
    "    \n",
    "    \n",
    "    print(list(models.keys())[i])\n",
    "    \n",
    "    print(\"Model performance for Training set\")\n",
    "    print(\"Accuracy : {:.4f}\".format(model_train_accuracy))\n",
    "    print(\"F1 score : {:.4f}\".format(model_train_f1))\n",
    "    print(\"Precision score : {:.4f}\".format(model_train_precision))\n",
    "    print(\"Recall:{:.4f}\".format(model_train_recall))\n",
    "    #print(\"Roc Auc score:{:.4f}\".format(model_train_roauc_score))\n",
    "    \n",
    "    print(\"--------------------------\")\n",
    "    \n",
    "    print(\"Model performance for Test set\")\n",
    "    print(\"Accuracy : {:.4f}\".format(model_test_accuracy))\n",
    "    print(\"F1 score : {:.4f}\".format(model_test_f1))\n",
    "    print(\"Precision score : {:.4f}\".format(model_test_precision))\n",
    "    print(\"Recall:{:.4f}\".format(model_test_recall))\n",
    "    #print(\"Roc Auc score:{:.4f}\".format(model_test_roauc_score))\n",
    "    \n",
    "    \n",
    "    \n",
    "    \n",
    "    \n",
    "    \n",
    "    \n",
    "    "
   ]
  },
  {
   "cell_type": "code",
   "execution_count": 26,
   "id": "38e77de2",
   "metadata": {
    "execution": {
     "iopub.execute_input": "2022-09-03T05:50:08.152815Z",
     "iopub.status.busy": "2022-09-03T05:50:08.152057Z",
     "iopub.status.idle": "2022-09-03T05:50:08.156734Z",
     "shell.execute_reply": "2022-09-03T05:50:08.155645Z"
    },
    "papermill": {
     "duration": 0.028458,
     "end_time": "2022-09-03T05:50:08.159144",
     "exception": false,
     "start_time": "2022-09-03T05:50:08.130686",
     "status": "completed"
    },
    "tags": []
   },
   "outputs": [],
   "source": [
    "#my_model = XGBClassifier(n_estimators=500, learning_rate=0.05)\n",
    "#my_model.fit(X_train, y_train, \n",
    "             #early_stopping_rounds=5, \n",
    "             #eval_set=[(X_test, y_test)], \n",
    "             #verbose=False)"
   ]
  },
  {
   "cell_type": "code",
   "execution_count": 27,
   "id": "f1b9bae0",
   "metadata": {
    "execution": {
     "iopub.execute_input": "2022-09-03T05:50:08.200997Z",
     "iopub.status.busy": "2022-09-03T05:50:08.200638Z",
     "iopub.status.idle": "2022-09-03T05:50:08.205899Z",
     "shell.execute_reply": "2022-09-03T05:50:08.204930Z"
    },
    "papermill": {
     "duration": 0.028627,
     "end_time": "2022-09-03T05:50:08.207962",
     "exception": false,
     "start_time": "2022-09-03T05:50:08.179335",
     "status": "completed"
    },
    "tags": []
   },
   "outputs": [],
   "source": [
    "#train_pred = my_model.predict(X_train)\n",
    "#test_pred = my_model.predict(X_test)"
   ]
  },
  {
   "cell_type": "code",
   "execution_count": 28,
   "id": "eb5b4832",
   "metadata": {
    "execution": {
     "iopub.execute_input": "2022-09-03T05:50:08.249892Z",
     "iopub.status.busy": "2022-09-03T05:50:08.249520Z",
     "iopub.status.idle": "2022-09-03T05:50:08.254177Z",
     "shell.execute_reply": "2022-09-03T05:50:08.253117Z"
    },
    "papermill": {
     "duration": 0.028254,
     "end_time": "2022-09-03T05:50:08.256456",
     "exception": false,
     "start_time": "2022-09-03T05:50:08.228202",
     "status": "completed"
    },
    "tags": []
   },
   "outputs": [],
   "source": [
    "#my_model_train_accuracy = accuracy_score(y_train,train_pred)\n",
    "#my_model_train_f1 = f1_score(y_train,train_pred,average = \"micro\")\n",
    "#my_model_train_precision = precision_score(y_train,train_pred,average = \"micro\")\n",
    "#my_model_train_recall = recall_score(y_train,train_pred,average = \"micro\")"
   ]
  },
  {
   "cell_type": "code",
   "execution_count": 29,
   "id": "56861e89",
   "metadata": {
    "execution": {
     "iopub.execute_input": "2022-09-03T05:50:08.298943Z",
     "iopub.status.busy": "2022-09-03T05:50:08.298566Z",
     "iopub.status.idle": "2022-09-03T05:50:08.303214Z",
     "shell.execute_reply": "2022-09-03T05:50:08.302138Z"
    },
    "papermill": {
     "duration": 0.02882,
     "end_time": "2022-09-03T05:50:08.305343",
     "exception": false,
     "start_time": "2022-09-03T05:50:08.276523",
     "status": "completed"
    },
    "tags": []
   },
   "outputs": [],
   "source": [
    "#my_model_test_accuracy = accuracy_score(y_test,test_pred)\n",
    "#my_model_test_f1 = f1_score(y_test,test_pred,average = \"micro\")\n",
    "#my_model_test_precision = precision_score(y_test,test_pred,average = \"micro\")\n",
    "#my_model_test_recall = recall_score(y_test,test_pred,average = \"micro\")"
   ]
  },
  {
   "cell_type": "code",
   "execution_count": 30,
   "id": "81a8db25",
   "metadata": {
    "execution": {
     "iopub.execute_input": "2022-09-03T05:50:08.348965Z",
     "iopub.status.busy": "2022-09-03T05:50:08.348583Z",
     "iopub.status.idle": "2022-09-03T05:50:08.353486Z",
     "shell.execute_reply": "2022-09-03T05:50:08.352465Z"
    },
    "papermill": {
     "duration": 0.029106,
     "end_time": "2022-09-03T05:50:08.355466",
     "exception": false,
     "start_time": "2022-09-03T05:50:08.326360",
     "status": "completed"
    },
    "tags": []
   },
   "outputs": [],
   "source": [
    "#print(\"Model performance for Training set\")\n",
    "#print(\"Accuracy : {:.4f}\".format(my_model_train_accuracy))\n",
    "#print(\"F1 score : {:.4f}\".format(my_model_train_f1))\n",
    "#print(\"Precision score : {:.4f}\".format(my_model_train_precision))\n",
    "#print(\"Recall:{:.4f}\".format(my_model_train_recall))\n",
    "\n",
    "#print(\"--------------------------\")\n",
    "    \n",
    "#print(\"Model performance for Test set\")\n",
    "#print(\"Accuracy : {:.4f}\".format(my_model_test_accuracy))\n",
    "#print(\"F1 score : {:.4f}\".format(my_model_test_f1))\n",
    "#print(\"Precision score : {:.4f}\".format(my_model_test_precision))\n",
    "#print(\"Recall:{:.4f}\".format(my_model_test_recall))\n",
    "\n",
    "    "
   ]
  },
  {
   "cell_type": "code",
   "execution_count": 31,
   "id": "c3a04639",
   "metadata": {
    "execution": {
     "iopub.execute_input": "2022-09-03T05:50:08.399187Z",
     "iopub.status.busy": "2022-09-03T05:50:08.398211Z",
     "iopub.status.idle": "2022-09-03T05:50:08.404231Z",
     "shell.execute_reply": "2022-09-03T05:50:08.403220Z"
    },
    "papermill": {
     "duration": 0.030528,
     "end_time": "2022-09-03T05:50:08.406442",
     "exception": false,
     "start_time": "2022-09-03T05:50:08.375914",
     "status": "completed"
    },
    "tags": []
   },
   "outputs": [],
   "source": [
    "rf_params = {\"max_depth\": [5,8,15,None,10],\n",
    "            \"max_features\" : [5,7,\"auto\",8],\n",
    "            \"min_samples_split\":[2,8,15,20],\n",
    "            \"n_estimators\":[100,200,500,1000]}"
   ]
  },
  {
   "cell_type": "code",
   "execution_count": 32,
   "id": "9733ed83",
   "metadata": {
    "execution": {
     "iopub.execute_input": "2022-09-03T05:50:08.450470Z",
     "iopub.status.busy": "2022-09-03T05:50:08.449296Z",
     "iopub.status.idle": "2022-09-03T05:50:08.457034Z",
     "shell.execute_reply": "2022-09-03T05:50:08.455841Z"
    },
    "papermill": {
     "duration": 0.03234,
     "end_time": "2022-09-03T05:50:08.459380",
     "exception": false,
     "start_time": "2022-09-03T05:50:08.427040",
     "status": "completed"
    },
    "tags": []
   },
   "outputs": [
    {
     "data": {
      "text/plain": [
       "{'max_depth': [5, 8, 15, None, 10],\n",
       " 'max_features': [5, 7, 'auto', 8],\n",
       " 'min_samples_split': [2, 8, 15, 20],\n",
       " 'n_estimators': [100, 200, 500, 1000]}"
      ]
     },
     "execution_count": 32,
     "metadata": {},
     "output_type": "execute_result"
    }
   ],
   "source": [
    "rf_params"
   ]
  },
  {
   "cell_type": "code",
   "execution_count": 33,
   "id": "580e6610",
   "metadata": {
    "execution": {
     "iopub.execute_input": "2022-09-03T05:50:08.503691Z",
     "iopub.status.busy": "2022-09-03T05:50:08.502721Z",
     "iopub.status.idle": "2022-09-03T05:50:08.508708Z",
     "shell.execute_reply": "2022-09-03T05:50:08.507618Z"
    },
    "papermill": {
     "duration": 0.030633,
     "end_time": "2022-09-03T05:50:08.510890",
     "exception": false,
     "start_time": "2022-09-03T05:50:08.480257",
     "status": "completed"
    },
    "tags": []
   },
   "outputs": [],
   "source": [
    "SVC_params = [{'kernel': ['rbf'], 'gamma': [1e-3, 1e-4],\n",
    "                     'C': [1, 10, 100, 1000]},\n",
    "                    {'kernel': ['linear'], 'C': [1, 10, 100, 1000]}]"
   ]
  },
  {
   "cell_type": "code",
   "execution_count": 34,
   "id": "13e87206",
   "metadata": {
    "execution": {
     "iopub.execute_input": "2022-09-03T05:50:08.554129Z",
     "iopub.status.busy": "2022-09-03T05:50:08.553777Z",
     "iopub.status.idle": "2022-09-03T05:50:08.559074Z",
     "shell.execute_reply": "2022-09-03T05:50:08.557967Z"
    },
    "papermill": {
     "duration": 0.030009,
     "end_time": "2022-09-03T05:50:08.561054",
     "exception": false,
     "start_time": "2022-09-03T05:50:08.531045",
     "status": "completed"
    },
    "tags": []
   },
   "outputs": [],
   "source": [
    "svc_params = [{'kernel': ['rbf'], 'gamma': [1e-3, 1e-4],\n",
    "                     'C': [1, 10, 100, 1000]},\n",
    "                    {'kernel': ['linear'], 'C': [1, 10, 100, 1000]}]\n"
   ]
  },
  {
   "cell_type": "code",
   "execution_count": 35,
   "id": "4e5e3c18",
   "metadata": {
    "execution": {
     "iopub.execute_input": "2022-09-03T05:50:08.604292Z",
     "iopub.status.busy": "2022-09-03T05:50:08.603681Z",
     "iopub.status.idle": "2022-09-03T05:50:08.609808Z",
     "shell.execute_reply": "2022-09-03T05:50:08.608908Z"
    },
    "papermill": {
     "duration": 0.030421,
     "end_time": "2022-09-03T05:50:08.612056",
     "exception": false,
     "start_time": "2022-09-03T05:50:08.581635",
     "status": "completed"
    },
    "tags": []
   },
   "outputs": [],
   "source": [
    "Xgb_params =  { 'max_depth': [5, 7,8,9,10] ,\n",
    "               'min_child_weight':[4,5,6] ,\n",
    "               'learning_rate': [0.05,0.1,.15,0.5] ,\n",
    "               'n_estimators': [20,50,100,150,200] }"
   ]
  },
  {
   "cell_type": "code",
   "execution_count": 36,
   "id": "b812f6ba",
   "metadata": {
    "execution": {
     "iopub.execute_input": "2022-09-03T05:50:08.653838Z",
     "iopub.status.busy": "2022-09-03T05:50:08.653525Z",
     "iopub.status.idle": "2022-09-03T05:50:08.658968Z",
     "shell.execute_reply": "2022-09-03T05:50:08.658032Z"
    },
    "papermill": {
     "duration": 0.028276,
     "end_time": "2022-09-03T05:50:08.660971",
     "exception": false,
     "start_time": "2022-09-03T05:50:08.632695",
     "status": "completed"
    },
    "tags": []
   },
   "outputs": [],
   "source": [
    "# Putting together a parameter grid to search over using grid search\n",
    "# Parameters of pipelines can be set using '__' separated parameter names:\n",
    "Xgb_params_new = {\n",
    "    \"xgb__max_depth\": [5, 7,8,9,10],\n",
    "    \"xgb__n_estimators\": np.arange(100,300,50),\n",
    "    \"xgb__learning_rate\": [ 0.05,0.1,0.15, 0.23,],\n",
    "     \"xgb__gamma\": [0.1, 0.25],\n",
    "     \"xgb__reg_lambda\" : [0.95],\n",
    "     \"xgb__reg_alpha\" : [0.35]\n",
    " }"
   ]
  },
  {
   "cell_type": "code",
   "execution_count": null,
   "id": "5ed952b2",
   "metadata": {
    "papermill": {
     "duration": 0.020608,
     "end_time": "2022-09-03T05:50:08.702089",
     "exception": false,
     "start_time": "2022-09-03T05:50:08.681481",
     "status": "completed"
    },
    "tags": []
   },
   "outputs": [],
   "source": []
  },
  {
   "cell_type": "code",
   "execution_count": 37,
   "id": "b1c2ee78",
   "metadata": {
    "execution": {
     "iopub.execute_input": "2022-09-03T05:50:08.745329Z",
     "iopub.status.busy": "2022-09-03T05:50:08.744324Z",
     "iopub.status.idle": "2022-09-03T05:50:08.750397Z",
     "shell.execute_reply": "2022-09-03T05:50:08.749412Z"
    },
    "papermill": {
     "duration": 0.030144,
     "end_time": "2022-09-03T05:50:08.752774",
     "exception": false,
     "start_time": "2022-09-03T05:50:08.722630",
     "status": "completed"
    },
    "tags": []
   },
   "outputs": [],
   "source": [
    "randomcv_models = [\n",
    "    (\"RF\",RandomForestClassifier(),rf_params),\n",
    " \n",
    "    ('Xgb',XGBClassifier(),Xgb_params)\n",
    "]"
   ]
  },
  {
   "cell_type": "code",
   "execution_count": 38,
   "id": "b14af33a",
   "metadata": {
    "execution": {
     "iopub.execute_input": "2022-09-03T05:50:08.795717Z",
     "iopub.status.busy": "2022-09-03T05:50:08.794760Z",
     "iopub.status.idle": "2022-09-03T05:50:08.805290Z",
     "shell.execute_reply": "2022-09-03T05:50:08.804279Z"
    },
    "papermill": {
     "duration": 0.033899,
     "end_time": "2022-09-03T05:50:08.807295",
     "exception": false,
     "start_time": "2022-09-03T05:50:08.773396",
     "status": "completed"
    },
    "tags": []
   },
   "outputs": [
    {
     "data": {
      "text/plain": [
       "[('RF',\n",
       "  RandomForestClassifier(),\n",
       "  {'max_depth': [5, 8, 15, None, 10],\n",
       "   'max_features': [5, 7, 'auto', 8],\n",
       "   'min_samples_split': [2, 8, 15, 20],\n",
       "   'n_estimators': [100, 200, 500, 1000]}),\n",
       " ('Xgb',\n",
       "  XGBClassifier(base_score=None, booster=None, callbacks=None,\n",
       "                colsample_bylevel=None, colsample_bynode=None,\n",
       "                colsample_bytree=None, early_stopping_rounds=None,\n",
       "                enable_categorical=False, eval_metric=None, gamma=None,\n",
       "                gpu_id=None, grow_policy=None, importance_type=None,\n",
       "                interaction_constraints=None, learning_rate=None, max_bin=None,\n",
       "                max_cat_to_onehot=None, max_delta_step=None, max_depth=None,\n",
       "                max_leaves=None, min_child_weight=None, missing=nan,\n",
       "                monotone_constraints=None, n_estimators=100, n_jobs=None,\n",
       "                num_parallel_tree=None, predictor=None, random_state=None,\n",
       "                reg_alpha=None, reg_lambda=None, ...),\n",
       "  {'max_depth': [5, 7, 8, 9, 10],\n",
       "   'min_child_weight': [4, 5, 6],\n",
       "   'learning_rate': [0.05, 0.1, 0.15, 0.5],\n",
       "   'n_estimators': [20, 50, 100, 150, 200]})]"
      ]
     },
     "execution_count": 38,
     "metadata": {},
     "output_type": "execute_result"
    }
   ],
   "source": [
    "randomcv_models"
   ]
  },
  {
   "cell_type": "code",
   "execution_count": 39,
   "id": "194f2aa2",
   "metadata": {
    "execution": {
     "iopub.execute_input": "2022-09-03T05:50:08.850081Z",
     "iopub.status.busy": "2022-09-03T05:50:08.849126Z",
     "iopub.status.idle": "2022-09-03T05:50:08.854778Z",
     "shell.execute_reply": "2022-09-03T05:50:08.853804Z"
    },
    "papermill": {
     "duration": 0.029342,
     "end_time": "2022-09-03T05:50:08.857006",
     "exception": false,
     "start_time": "2022-09-03T05:50:08.827664",
     "status": "completed"
    },
    "tags": []
   },
   "outputs": [],
   "source": [
    "lr_param = {'C': np.logspace(-4, 4, 50), 'penalty' : ['l1', 'l2']}"
   ]
  },
  {
   "cell_type": "code",
   "execution_count": 40,
   "id": "ed7a8462",
   "metadata": {
    "execution": {
     "iopub.execute_input": "2022-09-03T05:50:08.901276Z",
     "iopub.status.busy": "2022-09-03T05:50:08.900308Z",
     "iopub.status.idle": "2022-09-03T05:50:08.905256Z",
     "shell.execute_reply": "2022-09-03T05:50:08.904263Z"
    },
    "papermill": {
     "duration": 0.029468,
     "end_time": "2022-09-03T05:50:08.907309",
     "exception": false,
     "start_time": "2022-09-03T05:50:08.877841",
     "status": "completed"
    },
    "tags": []
   },
   "outputs": [],
   "source": [
    "#from sklearn.model_selection import GridSearchCV\n",
    "#model_param = {}\n",
    "#for name,model,params in randomcv_models:\n",
    "    #random = GridSearchCV(estimator = model,\n",
    "                               #param_grid = params,\n",
    "                               #cv =3,\n",
    "                               #verbose =2,\n",
    "                               #n_jobs = -1)\n",
    "    #random.fit(X_train,y_train)\n",
    "    #model_param[name] = random.best_params_\n",
    "\n",
    "#for model_name in model_param:\n",
    "    #print(f\"-------------Best Params for {model_name}-------\")\n",
    "    #print(model_param[model_name])"
   ]
  },
  {
   "cell_type": "code",
   "execution_count": 41,
   "id": "9e4a6078",
   "metadata": {
    "execution": {
     "iopub.execute_input": "2022-09-03T05:50:08.950356Z",
     "iopub.status.busy": "2022-09-03T05:50:08.949337Z",
     "iopub.status.idle": "2022-09-03T05:50:08.954255Z",
     "shell.execute_reply": "2022-09-03T05:50:08.953171Z"
    },
    "papermill": {
     "duration": 0.028195,
     "end_time": "2022-09-03T05:50:08.956326",
     "exception": false,
     "start_time": "2022-09-03T05:50:08.928131",
     "status": "completed"
    },
    "tags": []
   },
   "outputs": [],
   "source": [
    "#from sklearn.model_selection import GridSearchCV\n",
    "#xgb_grid = GridSearchCV(XGBClassifier(),param_grid = Xgb_params,n_jobs = -1,cv = 3,verbose = 2 )\n",
    "#xgb_grid.fit(X_train,y_train)\n",
    "#xgb_grid.best_params_\n"
   ]
  },
  {
   "cell_type": "code",
   "execution_count": 42,
   "id": "31f61060",
   "metadata": {
    "execution": {
     "iopub.execute_input": "2022-09-03T05:50:09.001047Z",
     "iopub.status.busy": "2022-09-03T05:50:08.999953Z",
     "iopub.status.idle": "2022-09-03T05:50:09.005626Z",
     "shell.execute_reply": "2022-09-03T05:50:09.004208Z"
    },
    "papermill": {
     "duration": 0.030719,
     "end_time": "2022-09-03T05:50:09.007809",
     "exception": false,
     "start_time": "2022-09-03T05:50:08.977090",
     "status": "completed"
    },
    "tags": []
   },
   "outputs": [],
   "source": [
    "#from sklearn.model_selection import GridSearchCV\n",
    "#lr_grid = GridSearchCV(LogisticRegression(),param_grid = lr_param,n_jobs = -1,cv = 3,verbose = 2 )\n",
    "#lr_grid.fit(X_train,y_train)\n",
    "#lr_grid.best_params_\n"
   ]
  },
  {
   "cell_type": "code",
   "execution_count": 43,
   "id": "475c6594",
   "metadata": {
    "execution": {
     "iopub.execute_input": "2022-09-03T05:50:09.051548Z",
     "iopub.status.busy": "2022-09-03T05:50:09.050908Z",
     "iopub.status.idle": "2022-09-03T05:50:09.055386Z",
     "shell.execute_reply": "2022-09-03T05:50:09.054429Z"
    },
    "papermill": {
     "duration": 0.028656,
     "end_time": "2022-09-03T05:50:09.057409",
     "exception": false,
     "start_time": "2022-09-03T05:50:09.028753",
     "status": "completed"
    },
    "tags": []
   },
   "outputs": [],
   "source": [
    "#from sklearn.model_selection import GridSearchCV\n",
    "#svm_grid = GridSearchCV(SVC(),param_grid = SVC_params,cv = 3 )\n",
    "#svm_grid.fit(X_train,y_train)\n",
    "#svm_grid.best_params_"
   ]
  },
  {
   "cell_type": "code",
   "execution_count": 44,
   "id": "96408915",
   "metadata": {
    "execution": {
     "iopub.execute_input": "2022-09-03T05:50:09.100473Z",
     "iopub.status.busy": "2022-09-03T05:50:09.099429Z",
     "iopub.status.idle": "2022-09-03T05:50:09.104881Z",
     "shell.execute_reply": "2022-09-03T05:50:09.104017Z"
    },
    "papermill": {
     "duration": 0.029142,
     "end_time": "2022-09-03T05:50:09.106877",
     "exception": false,
     "start_time": "2022-09-03T05:50:09.077735",
     "status": "completed"
    },
    "tags": []
   },
   "outputs": [],
   "source": [
    "svm_best = SVC(C =  1000, gamma =  0.0001, kernel= 'rbf')"
   ]
  },
  {
   "cell_type": "code",
   "execution_count": 45,
   "id": "c7331342",
   "metadata": {
    "execution": {
     "iopub.execute_input": "2022-09-03T05:50:09.150728Z",
     "iopub.status.busy": "2022-09-03T05:50:09.149734Z",
     "iopub.status.idle": "2022-09-03T05:50:09.155352Z",
     "shell.execute_reply": "2022-09-03T05:50:09.154497Z"
    },
    "papermill": {
     "duration": 0.029789,
     "end_time": "2022-09-03T05:50:09.157359",
     "exception": false,
     "start_time": "2022-09-03T05:50:09.127570",
     "status": "completed"
    },
    "tags": []
   },
   "outputs": [],
   "source": [
    "lr_best = LogisticRegression(C= 0.18420699693267145, penalty=  'l2')\n"
   ]
  },
  {
   "cell_type": "code",
   "execution_count": 46,
   "id": "5d7087e3",
   "metadata": {
    "execution": {
     "iopub.execute_input": "2022-09-03T05:50:09.199345Z",
     "iopub.status.busy": "2022-09-03T05:50:09.198746Z",
     "iopub.status.idle": "2022-09-03T05:50:09.204209Z",
     "shell.execute_reply": "2022-09-03T05:50:09.203228Z"
    },
    "papermill": {
     "duration": 0.028757,
     "end_time": "2022-09-03T05:50:09.206620",
     "exception": false,
     "start_time": "2022-09-03T05:50:09.177863",
     "status": "completed"
    },
    "tags": []
   },
   "outputs": [],
   "source": [
    "#Xgb_best = XGBClassifier(learning_rate = 0.15,max_depth = 9,min_child_weight = 4,n_estimators =200,objective=\"multi:softmax\")\n",
    "Xgb_best = XGBClassifier(learning_rate= 0.01,n_estimators= 1000 ,max_depth= 9,subsample= 0.8,colsample_bytree=0.8,gamma= 1)"
   ]
  },
  {
   "cell_type": "code",
   "execution_count": 47,
   "id": "ab82a3b2",
   "metadata": {
    "execution": {
     "iopub.execute_input": "2022-09-03T05:50:09.249618Z",
     "iopub.status.busy": "2022-09-03T05:50:09.249261Z",
     "iopub.status.idle": "2022-09-03T05:50:09.254216Z",
     "shell.execute_reply": "2022-09-03T05:50:09.253211Z"
    },
    "papermill": {
     "duration": 0.029187,
     "end_time": "2022-09-03T05:50:09.256413",
     "exception": false,
     "start_time": "2022-09-03T05:50:09.227226",
     "status": "completed"
    },
    "tags": []
   },
   "outputs": [],
   "source": [
    "\n",
    "rf_best = RandomForestClassifier(n_estimators = 1000, \n",
    "                                 min_samples_split = 15, \n",
    "                                 max_features= 8, \n",
    "                                 max_depth= 15)\n"
   ]
  },
  {
   "cell_type": "code",
   "execution_count": 48,
   "id": "f518111b",
   "metadata": {
    "execution": {
     "iopub.execute_input": "2022-09-03T05:50:09.300185Z",
     "iopub.status.busy": "2022-09-03T05:50:09.299553Z",
     "iopub.status.idle": "2022-09-03T05:50:15.055662Z",
     "shell.execute_reply": "2022-09-03T05:50:15.054689Z"
    },
    "papermill": {
     "duration": 5.780958,
     "end_time": "2022-09-03T05:50:15.057950",
     "exception": false,
     "start_time": "2022-09-03T05:50:09.276992",
     "status": "completed"
    },
    "tags": []
   },
   "outputs": [
    {
     "data": {
      "text/plain": [
       "RandomForestClassifier(max_depth=15, max_features=8, min_samples_split=15,\n",
       "                       n_estimators=1000)"
      ]
     },
     "execution_count": 48,
     "metadata": {},
     "output_type": "execute_result"
    }
   ],
   "source": [
    "rf_best.fit(X_train,y_train)"
   ]
  },
  {
   "cell_type": "code",
   "execution_count": 49,
   "id": "8c99a052",
   "metadata": {
    "execution": {
     "iopub.execute_input": "2022-09-03T05:50:15.101254Z",
     "iopub.status.busy": "2022-09-03T05:50:15.100871Z",
     "iopub.status.idle": "2022-09-03T05:50:15.699212Z",
     "shell.execute_reply": "2022-09-03T05:50:15.698045Z"
    },
    "papermill": {
     "duration": 0.623549,
     "end_time": "2022-09-03T05:50:15.702009",
     "exception": false,
     "start_time": "2022-09-03T05:50:15.078460",
     "status": "completed"
    },
    "tags": []
   },
   "outputs": [
    {
     "data": {
      "text/plain": [
       "0.9085434700790365"
      ]
     },
     "execution_count": 49,
     "metadata": {},
     "output_type": "execute_result"
    }
   ],
   "source": [
    "f1_score(rf_best.predict(X_train),y_train,average = \"micro\")"
   ]
  },
  {
   "cell_type": "code",
   "execution_count": null,
   "id": "894adb07",
   "metadata": {
    "papermill": {
     "duration": 0.020832,
     "end_time": "2022-09-03T05:50:15.743771",
     "exception": false,
     "start_time": "2022-09-03T05:50:15.722939",
     "status": "completed"
    },
    "tags": []
   },
   "outputs": [],
   "source": []
  },
  {
   "cell_type": "code",
   "execution_count": 50,
   "id": "620c62ec",
   "metadata": {
    "execution": {
     "iopub.execute_input": "2022-09-03T05:50:15.785265Z",
     "iopub.status.busy": "2022-09-03T05:50:15.784890Z",
     "iopub.status.idle": "2022-09-03T05:50:16.520315Z",
     "shell.execute_reply": "2022-09-03T05:50:16.519256Z"
    },
    "papermill": {
     "duration": 0.759065,
     "end_time": "2022-09-03T05:50:16.522957",
     "exception": false,
     "start_time": "2022-09-03T05:50:15.763892",
     "status": "completed"
    },
    "tags": []
   },
   "outputs": [
    {
     "data": {
      "text/plain": [
       "SVC(C=1000, gamma=0.0001)"
      ]
     },
     "execution_count": 50,
     "metadata": {},
     "output_type": "execute_result"
    }
   ],
   "source": [
    "svm_best.fit(X_train,y_train)"
   ]
  },
  {
   "cell_type": "code",
   "execution_count": 51,
   "id": "69f33216",
   "metadata": {
    "execution": {
     "iopub.execute_input": "2022-09-03T05:50:16.568774Z",
     "iopub.status.busy": "2022-09-03T05:50:16.568112Z",
     "iopub.status.idle": "2022-09-03T05:50:16.911169Z",
     "shell.execute_reply": "2022-09-03T05:50:16.909929Z"
    },
    "papermill": {
     "duration": 0.369472,
     "end_time": "2022-09-03T05:50:16.914438",
     "exception": false,
     "start_time": "2022-09-03T05:50:16.544966",
     "status": "completed"
    },
    "tags": []
   },
   "outputs": [
    {
     "data": {
      "text/plain": [
       "0.7587504704554008"
      ]
     },
     "execution_count": 51,
     "metadata": {},
     "output_type": "execute_result"
    }
   ],
   "source": [
    "f1_score(svm_best.predict(X_train),y_train,average = \"micro\")"
   ]
  },
  {
   "cell_type": "code",
   "execution_count": 52,
   "id": "e86edbc2",
   "metadata": {
    "execution": {
     "iopub.execute_input": "2022-09-03T05:50:16.960643Z",
     "iopub.status.busy": "2022-09-03T05:50:16.960258Z",
     "iopub.status.idle": "2022-09-03T05:50:17.113911Z",
     "shell.execute_reply": "2022-09-03T05:50:17.112640Z"
    },
    "papermill": {
     "duration": 0.179544,
     "end_time": "2022-09-03T05:50:17.117067",
     "exception": false,
     "start_time": "2022-09-03T05:50:16.937523",
     "status": "completed"
    },
    "tags": []
   },
   "outputs": [
    {
     "data": {
      "text/plain": [
       "0.7357330992098333"
      ]
     },
     "execution_count": 52,
     "metadata": {},
     "output_type": "execute_result"
    }
   ],
   "source": [
    "f1_score(svm_best.predict(X_test),y_test,average = \"micro\")"
   ]
  },
  {
   "cell_type": "code",
   "execution_count": 53,
   "id": "a3113e25",
   "metadata": {
    "execution": {
     "iopub.execute_input": "2022-09-03T05:50:17.162392Z",
     "iopub.status.busy": "2022-09-03T05:50:17.161998Z",
     "iopub.status.idle": "2022-09-03T05:50:17.257230Z",
     "shell.execute_reply": "2022-09-03T05:50:17.256292Z"
    },
    "papermill": {
     "duration": 0.120896,
     "end_time": "2022-09-03T05:50:17.260517",
     "exception": false,
     "start_time": "2022-09-03T05:50:17.139621",
     "status": "completed"
    },
    "tags": []
   },
   "outputs": [
    {
     "data": {
      "text/plain": [
       "LogisticRegression(C=0.18420699693267145)"
      ]
     },
     "execution_count": 53,
     "metadata": {},
     "output_type": "execute_result"
    }
   ],
   "source": [
    "lr_best.fit(X_train,y_train)"
   ]
  },
  {
   "cell_type": "code",
   "execution_count": 54,
   "id": "f8fd1d03",
   "metadata": {
    "execution": {
     "iopub.execute_input": "2022-09-03T05:50:17.373217Z",
     "iopub.status.busy": "2022-09-03T05:50:17.372625Z",
     "iopub.status.idle": "2022-09-03T05:50:17.390003Z",
     "shell.execute_reply": "2022-09-03T05:50:17.388770Z"
    },
    "papermill": {
     "duration": 0.077785,
     "end_time": "2022-09-03T05:50:17.393985",
     "exception": false,
     "start_time": "2022-09-03T05:50:17.316200",
     "status": "completed"
    },
    "tags": []
   },
   "outputs": [
    {
     "data": {
      "text/plain": [
       "0.7429431689875798"
      ]
     },
     "execution_count": 54,
     "metadata": {},
     "output_type": "execute_result"
    }
   ],
   "source": [
    "f1_score(lr_best.predict(X_train),y_train,average = \"micro\")"
   ]
  },
  {
   "cell_type": "code",
   "execution_count": 55,
   "id": "fa05905e",
   "metadata": {
    "execution": {
     "iopub.execute_input": "2022-09-03T05:50:17.513438Z",
     "iopub.status.busy": "2022-09-03T05:50:17.512712Z",
     "iopub.status.idle": "2022-09-03T05:50:17.523841Z",
     "shell.execute_reply": "2022-09-03T05:50:17.522274Z"
    },
    "papermill": {
     "duration": 0.071695,
     "end_time": "2022-09-03T05:50:17.526414",
     "exception": false,
     "start_time": "2022-09-03T05:50:17.454719",
     "status": "completed"
    },
    "tags": []
   },
   "outputs": [
    {
     "data": {
      "text/plain": [
       "0.7295873573309921"
      ]
     },
     "execution_count": 55,
     "metadata": {},
     "output_type": "execute_result"
    }
   ],
   "source": [
    "f1_score(y_test,lr_best.predict(X_test),average = \"micro\")"
   ]
  },
  {
   "cell_type": "code",
   "execution_count": 56,
   "id": "54d9592c",
   "metadata": {
    "execution": {
     "iopub.execute_input": "2022-09-03T05:50:17.575315Z",
     "iopub.status.busy": "2022-09-03T05:50:17.574879Z",
     "iopub.status.idle": "2022-09-03T05:50:17.579787Z",
     "shell.execute_reply": "2022-09-03T05:50:17.578782Z"
    },
    "papermill": {
     "duration": 0.031855,
     "end_time": "2022-09-03T05:50:17.581900",
     "exception": false,
     "start_time": "2022-09-03T05:50:17.550045",
     "status": "completed"
    },
    "tags": []
   },
   "outputs": [],
   "source": [
    "#f1_score(lr_best.predict(X_test),y_test,average = \"micro\")"
   ]
  },
  {
   "cell_type": "code",
   "execution_count": 57,
   "id": "cfae3e77",
   "metadata": {
    "execution": {
     "iopub.execute_input": "2022-09-03T05:50:17.630652Z",
     "iopub.status.busy": "2022-09-03T05:50:17.628585Z",
     "iopub.status.idle": "2022-09-03T05:50:44.228109Z",
     "shell.execute_reply": "2022-09-03T05:50:44.227149Z"
    },
    "papermill": {
     "duration": 26.62577,
     "end_time": "2022-09-03T05:50:44.230566",
     "exception": false,
     "start_time": "2022-09-03T05:50:17.604796",
     "status": "completed"
    },
    "tags": []
   },
   "outputs": [
    {
     "data": {
      "text/plain": [
       "XGBClassifier(base_score=0.5, booster='gbtree', callbacks=None,\n",
       "              colsample_bylevel=1, colsample_bynode=1, colsample_bytree=0.8,\n",
       "              early_stopping_rounds=None, enable_categorical=False,\n",
       "              eval_metric=None, gamma=1, gpu_id=-1, grow_policy='depthwise',\n",
       "              importance_type=None, interaction_constraints='',\n",
       "              learning_rate=0.01, max_bin=256, max_cat_to_onehot=4,\n",
       "              max_delta_step=0, max_depth=9, max_leaves=0, min_child_weight=1,\n",
       "              missing=nan, monotone_constraints='()', n_estimators=1000,\n",
       "              n_jobs=0, num_parallel_tree=1, objective='multi:softprob',\n",
       "              predictor='auto', random_state=0, reg_alpha=0, ...)"
      ]
     },
     "execution_count": 57,
     "metadata": {},
     "output_type": "execute_result"
    }
   ],
   "source": [
    "Xgb_best.fit(X_train,y_train)"
   ]
  },
  {
   "cell_type": "code",
   "execution_count": 58,
   "id": "e2a9f8d3",
   "metadata": {
    "execution": {
     "iopub.execute_input": "2022-09-03T05:50:44.276213Z",
     "iopub.status.busy": "2022-09-03T05:50:44.275196Z",
     "iopub.status.idle": "2022-09-03T05:50:44.523159Z",
     "shell.execute_reply": "2022-09-03T05:50:44.522371Z"
    },
    "papermill": {
     "duration": 0.273271,
     "end_time": "2022-09-03T05:50:44.525640",
     "exception": false,
     "start_time": "2022-09-03T05:50:44.252369",
     "status": "completed"
    },
    "tags": []
   },
   "outputs": [
    {
     "data": {
      "text/plain": [
       "0.9902145276627776"
      ]
     },
     "execution_count": 58,
     "metadata": {},
     "output_type": "execute_result"
    }
   ],
   "source": [
    "f1_score(Xgb_best.predict(X_train),y_train,average = \"micro\")"
   ]
  },
  {
   "cell_type": "code",
   "execution_count": 59,
   "id": "0e014285",
   "metadata": {
    "execution": {
     "iopub.execute_input": "2022-09-03T05:50:44.572759Z",
     "iopub.status.busy": "2022-09-03T05:50:44.572336Z",
     "iopub.status.idle": "2022-09-03T05:50:44.683661Z",
     "shell.execute_reply": "2022-09-03T05:50:44.682792Z"
    },
    "papermill": {
     "duration": 0.136605,
     "end_time": "2022-09-03T05:50:44.686148",
     "exception": false,
     "start_time": "2022-09-03T05:50:44.549543",
     "status": "completed"
    },
    "tags": []
   },
   "outputs": [
    {
     "data": {
      "text/plain": [
       "0.746268656716418"
      ]
     },
     "execution_count": 59,
     "metadata": {},
     "output_type": "execute_result"
    }
   ],
   "source": [
    "f1_score(Xgb_best.predict(X_test),y_test,average = \"micro\")"
   ]
  },
  {
   "cell_type": "code",
   "execution_count": 60,
   "id": "8e0f3721",
   "metadata": {
    "execution": {
     "iopub.execute_input": "2022-09-03T05:50:44.733360Z",
     "iopub.status.busy": "2022-09-03T05:50:44.732978Z",
     "iopub.status.idle": "2022-09-03T05:50:44.753862Z",
     "shell.execute_reply": "2022-09-03T05:50:44.752687Z"
    },
    "papermill": {
     "duration": 0.046148,
     "end_time": "2022-09-03T05:50:44.756598",
     "exception": false,
     "start_time": "2022-09-03T05:50:44.710450",
     "status": "completed"
    },
    "tags": []
   },
   "outputs": [
    {
     "data": {
      "text/html": [
       "<div>\n",
       "<style scoped>\n",
       "    .dataframe tbody tr th:only-of-type {\n",
       "        vertical-align: middle;\n",
       "    }\n",
       "\n",
       "    .dataframe tbody tr th {\n",
       "        vertical-align: top;\n",
       "    }\n",
       "\n",
       "    .dataframe thead th {\n",
       "        text-align: right;\n",
       "    }\n",
       "</style>\n",
       "<table border=\"1\" class=\"dataframe\">\n",
       "  <thead>\n",
       "    <tr style=\"text-align: right;\">\n",
       "      <th></th>\n",
       "      <th>id</th>\n",
       "      <th>v_21</th>\n",
       "      <th>v_32</th>\n",
       "      <th>v_15</th>\n",
       "      <th>v_4</th>\n",
       "      <th>v_1</th>\n",
       "      <th>v_8</th>\n",
       "      <th>v_12</th>\n",
       "      <th>v_25</th>\n",
       "      <th>v_20</th>\n",
       "      <th>...</th>\n",
       "      <th>v_7</th>\n",
       "      <th>v_2</th>\n",
       "      <th>v_16</th>\n",
       "      <th>v_34</th>\n",
       "      <th>v_35</th>\n",
       "      <th>v_36</th>\n",
       "      <th>v_37</th>\n",
       "      <th>v_38</th>\n",
       "      <th>v_39</th>\n",
       "      <th>v_40</th>\n",
       "    </tr>\n",
       "  </thead>\n",
       "  <tbody>\n",
       "    <tr>\n",
       "      <th>0</th>\n",
       "      <td>0</td>\n",
       "      <td>9</td>\n",
       "      <td>90</td>\n",
       "      <td>15</td>\n",
       "      <td>121</td>\n",
       "      <td>1</td>\n",
       "      <td>8</td>\n",
       "      <td>23</td>\n",
       "      <td>114</td>\n",
       "      <td>256</td>\n",
       "      <td>...</td>\n",
       "      <td>10.8</td>\n",
       "      <td>10.4</td>\n",
       "      <td>6.74</td>\n",
       "      <td>4</td>\n",
       "      <td>96</td>\n",
       "      <td>36</td>\n",
       "      <td>34</td>\n",
       "      <td>23</td>\n",
       "      <td>72</td>\n",
       "      <td>5</td>\n",
       "    </tr>\n",
       "    <tr>\n",
       "      <th>1</th>\n",
       "      <td>1</td>\n",
       "      <td>7</td>\n",
       "      <td>123</td>\n",
       "      <td>14</td>\n",
       "      <td>126</td>\n",
       "      <td>1</td>\n",
       "      <td>5</td>\n",
       "      <td>19</td>\n",
       "      <td>3</td>\n",
       "      <td>40</td>\n",
       "      <td>...</td>\n",
       "      <td>19.4</td>\n",
       "      <td>0.5</td>\n",
       "      <td>6.79</td>\n",
       "      <td>15</td>\n",
       "      <td>78</td>\n",
       "      <td>12</td>\n",
       "      <td>25</td>\n",
       "      <td>27</td>\n",
       "      <td>67</td>\n",
       "      <td>12</td>\n",
       "    </tr>\n",
       "    <tr>\n",
       "      <th>2</th>\n",
       "      <td>2</td>\n",
       "      <td>3</td>\n",
       "      <td>6</td>\n",
       "      <td>10</td>\n",
       "      <td>102</td>\n",
       "      <td>1</td>\n",
       "      <td>1</td>\n",
       "      <td>16</td>\n",
       "      <td>181</td>\n",
       "      <td>168</td>\n",
       "      <td>...</td>\n",
       "      <td>7.6</td>\n",
       "      <td>2.6</td>\n",
       "      <td>0.32</td>\n",
       "      <td>4</td>\n",
       "      <td>81</td>\n",
       "      <td>47</td>\n",
       "      <td>30</td>\n",
       "      <td>54</td>\n",
       "      <td>23</td>\n",
       "      <td>4</td>\n",
       "    </tr>\n",
       "    <tr>\n",
       "      <th>3</th>\n",
       "      <td>3</td>\n",
       "      <td>3</td>\n",
       "      <td>6</td>\n",
       "      <td>10</td>\n",
       "      <td>148</td>\n",
       "      <td>1</td>\n",
       "      <td>1</td>\n",
       "      <td>16</td>\n",
       "      <td>110</td>\n",
       "      <td>278</td>\n",
       "      <td>...</td>\n",
       "      <td>11.1</td>\n",
       "      <td>0.6</td>\n",
       "      <td>2.02</td>\n",
       "      <td>4</td>\n",
       "      <td>100</td>\n",
       "      <td>6</td>\n",
       "      <td>23</td>\n",
       "      <td>12</td>\n",
       "      <td>28</td>\n",
       "      <td>1</td>\n",
       "    </tr>\n",
       "    <tr>\n",
       "      <th>4</th>\n",
       "      <td>4</td>\n",
       "      <td>3</td>\n",
       "      <td>6</td>\n",
       "      <td>10</td>\n",
       "      <td>148</td>\n",
       "      <td>1</td>\n",
       "      <td>1</td>\n",
       "      <td>16</td>\n",
       "      <td>1</td>\n",
       "      <td>168</td>\n",
       "      <td>...</td>\n",
       "      <td>7.6</td>\n",
       "      <td>2.6</td>\n",
       "      <td>0.32</td>\n",
       "      <td>7</td>\n",
       "      <td>97</td>\n",
       "      <td>25</td>\n",
       "      <td>30</td>\n",
       "      <td>18</td>\n",
       "      <td>52</td>\n",
       "      <td>0</td>\n",
       "    </tr>\n",
       "  </tbody>\n",
       "</table>\n",
       "<p>5 rows × 42 columns</p>\n",
       "</div>"
      ],
      "text/plain": [
       "   id  v_21  v_32  v_15  v_4  v_1  v_8  v_12  v_25  v_20  ...   v_7   v_2  \\\n",
       "0   0     9    90    15  121    1    8    23   114   256  ...  10.8  10.4   \n",
       "1   1     7   123    14  126    1    5    19     3    40  ...  19.4   0.5   \n",
       "2   2     3     6    10  102    1    1    16   181   168  ...   7.6   2.6   \n",
       "3   3     3     6    10  148    1    1    16   110   278  ...  11.1   0.6   \n",
       "4   4     3     6    10  148    1    1    16     1   168  ...   7.6   2.6   \n",
       "\n",
       "   v_16  v_34  v_35  v_36  v_37  v_38  v_39  v_40  \n",
       "0  6.74     4    96    36    34    23    72     5  \n",
       "1  6.79    15    78    12    25    27    67    12  \n",
       "2  0.32     4    81    47    30    54    23     4  \n",
       "3  2.02     4   100     6    23    12    28     1  \n",
       "4  0.32     7    97    25    30    18    52     0  \n",
       "\n",
       "[5 rows x 42 columns]"
      ]
     },
     "execution_count": 60,
     "metadata": {},
     "output_type": "execute_result"
    }
   ],
   "source": [
    "test.head()\n"
   ]
  },
  {
   "cell_type": "code",
   "execution_count": 61,
   "id": "dc0030a5",
   "metadata": {
    "execution": {
     "iopub.execute_input": "2022-09-03T05:50:44.800661Z",
     "iopub.status.busy": "2022-09-03T05:50:44.800343Z",
     "iopub.status.idle": "2022-09-03T05:50:44.809140Z",
     "shell.execute_reply": "2022-09-03T05:50:44.808262Z"
    },
    "papermill": {
     "duration": 0.033563,
     "end_time": "2022-09-03T05:50:44.811440",
     "exception": false,
     "start_time": "2022-09-03T05:50:44.777877",
     "status": "completed"
    },
    "tags": []
   },
   "outputs": [],
   "source": [
    "X_test_final = test.drop('id',axis=1)\n",
    "#test_preds = rf_best.predict\n",
    "#test_preds\n",
    "X_test_final = sc.transform(X_test_final)"
   ]
  },
  {
   "cell_type": "code",
   "execution_count": 62,
   "id": "da089e9c",
   "metadata": {
    "execution": {
     "iopub.execute_input": "2022-09-03T05:50:44.856469Z",
     "iopub.status.busy": "2022-09-03T05:50:44.855474Z",
     "iopub.status.idle": "2022-09-03T05:50:44.864682Z",
     "shell.execute_reply": "2022-09-03T05:50:44.863601Z"
    },
    "papermill": {
     "duration": 0.03359,
     "end_time": "2022-09-03T05:50:44.866785",
     "exception": false,
     "start_time": "2022-09-03T05:50:44.833195",
     "status": "completed"
    },
    "tags": []
   },
   "outputs": [
    {
     "data": {
      "text/plain": [
       "array([[ 0.7456345 ,  0.35025474,  1.29247618,  0.46248377,  0.31076437,\n",
       "         1.01935273,  0.2815168 ,  0.21927751,  0.86679215,  0.94703542,\n",
       "         0.24359715,  1.06979968, -0.46657282, -0.59459272, -1.63088308,\n",
       "         1.07629355, -0.76382764, -0.51734855, -0.21075635,  1.03749155,\n",
       "         2.09394574,  0.17023697,  1.17407629,  1.87839965,  0.00968469,\n",
       "         1.61825911,  0.30289459,  1.78972541,  2.09607898,  0.21765275,\n",
       "         2.12986914, -0.4663337 ,  3.30548489,  1.90922984, -0.38233131,\n",
       "         1.54745597,  0.66311937,  1.10712119, -0.47131094,  1.41184537,\n",
       "         0.62568825],\n",
       "       [ 0.39839922,  0.94189159,  0.90821869,  0.57340607,  0.31076437,\n",
       "         0.35595784,  0.00817854, -1.18234489, -1.22400101,  3.87342367,\n",
       "         2.6912092 ,  1.06979968, -0.46657282, -0.59459272, -1.63088308,\n",
       "         1.07629355, -0.76382764,  1.64276577, -0.21075635,  1.96221985,\n",
       "         1.48426805,  2.06190829,  0.37773847,  1.68678068,  0.45334365,\n",
       "         1.61825911,  2.88545676,  0.23534283,  1.82419449,  1.4783577 ,\n",
       "        -0.43659903,  2.04162581, -0.61384916,  1.92546248,  2.70964359,\n",
       "         0.9340909 , -0.94599041,  0.35640977, -0.24623376,  1.18980034,\n",
       "         3.22501275],\n",
       "       [-0.29607133, -1.15572998, -0.62881128,  0.04097905,  0.31076437,\n",
       "        -0.52856868, -0.19682515,  1.06530184,  0.01498753,  0.85140182,\n",
       "         0.44385632,  1.06979968, -0.46657282, -0.59459272,  0.61316474,\n",
       "         1.07629355, -0.76382764,  0.11797919, -0.21075635, -0.50372228,\n",
       "        -0.34476505, -0.25013443,  0.11229252,  0.34544784, -0.43397427,\n",
       "        -0.49099498, -0.34274595, -0.20876647, -0.07899692,  0.21765275,\n",
       "        -0.43659903, -1.39952794,  0.21752473, -0.17504127, -0.38233131,\n",
       "         1.03631841,  1.40062802,  0.77347167,  1.27303722, -0.76419592,\n",
       "         0.25435618],\n",
       "       [-0.29607133, -1.15572998, -0.62881128,  1.06146417,  0.31076437,\n",
       "        -0.52856868, -0.19682515,  0.16876859,  1.07974331,  0.85140182,\n",
       "         0.065589  ,  1.06979968, -0.46657282, -0.59459272,  0.61316474,\n",
       "        -0.92911456,  1.30919589, -0.51734855, -0.21075635, -0.50372228,\n",
       "        -0.34476505, -0.25013443,  0.11229252,  0.72868579, -0.43397427,\n",
       "        -0.49099498, -0.34274595, -0.43082113,  0.19288756,  0.57785417,\n",
       "        -0.43659903, -0.37884674, -0.57425993,  0.37686853, -0.38233131,\n",
       "         1.68375932, -1.34826786,  0.18958501, -1.09027319, -0.54215089,\n",
       "        -0.85964004],\n",
       "       [-0.29607133, -1.15572998, -0.62881128,  1.06146417,  0.31076437,\n",
       "        -0.52856868, -0.19682515, -1.20759935,  0.01498753, -0.88912976,\n",
       "        -0.51293748,  1.06979968, -0.46657282, -0.59459272,  0.61316474,\n",
       "        -0.92911456, -0.76382764, -0.390283  , -0.21075635, -0.50372228,\n",
       "        -0.6496039 , -0.25013443, -0.41859936, -0.03779012, -0.43397427,\n",
       "        -0.49099498, -0.66556622, -0.87493044, -0.07899692,  0.21765275,\n",
       "        -0.43659903, -1.39952794,  0.21752473, -0.17504127,  0.46093457,\n",
       "         1.58153181, -0.07438928,  0.77347167, -0.75265742,  0.52366525,\n",
       "        -1.23097211]])"
      ]
     },
     "execution_count": 62,
     "metadata": {},
     "output_type": "execute_result"
    }
   ],
   "source": [
    "X_test_final[:5]"
   ]
  },
  {
   "cell_type": "code",
   "execution_count": 63,
   "id": "ca9582a5",
   "metadata": {
    "execution": {
     "iopub.execute_input": "2022-09-03T05:50:44.913024Z",
     "iopub.status.busy": "2022-09-03T05:50:44.911962Z",
     "iopub.status.idle": "2022-09-03T05:50:44.916730Z",
     "shell.execute_reply": "2022-09-03T05:50:44.915817Z"
    },
    "papermill": {
     "duration": 0.029994,
     "end_time": "2022-09-03T05:50:44.918990",
     "exception": false,
     "start_time": "2022-09-03T05:50:44.888996",
     "status": "completed"
    },
    "tags": []
   },
   "outputs": [],
   "source": [
    "#test_preds = rf_best.predict(X_test_final)\n",
    "\n",
    "\n",
    "#output = pd.DataFrame({'id': test.id,\n",
    "                       #'label': test_preds})\n",
    "#output.to_csv('submission.csv', index=False)"
   ]
  },
  {
   "cell_type": "code",
   "execution_count": 64,
   "id": "37a86642",
   "metadata": {
    "execution": {
     "iopub.execute_input": "2022-09-03T05:50:44.964169Z",
     "iopub.status.busy": "2022-09-03T05:50:44.963184Z",
     "iopub.status.idle": "2022-09-03T05:50:44.967783Z",
     "shell.execute_reply": "2022-09-03T05:50:44.966754Z"
    },
    "papermill": {
     "duration": 0.029579,
     "end_time": "2022-09-03T05:50:44.970106",
     "exception": false,
     "start_time": "2022-09-03T05:50:44.940527",
     "status": "completed"
    },
    "tags": []
   },
   "outputs": [],
   "source": [
    "#test_preds = Xgb_best.predict(X_test_final)\n",
    "\n",
    "\n",
    "#output = pd.DataFrame({'id': test.id,\n",
    "                       #'label': test_preds})\n",
    "#output.to_csv('submission.csv', index=False)"
   ]
  },
  {
   "cell_type": "code",
   "execution_count": 65,
   "id": "e3991fb7",
   "metadata": {
    "execution": {
     "iopub.execute_input": "2022-09-03T05:50:45.015786Z",
     "iopub.status.busy": "2022-09-03T05:50:45.015431Z",
     "iopub.status.idle": "2022-09-03T05:50:45.173038Z",
     "shell.execute_reply": "2022-09-03T05:50:45.172245Z"
    },
    "papermill": {
     "duration": 0.18343,
     "end_time": "2022-09-03T05:50:45.175523",
     "exception": false,
     "start_time": "2022-09-03T05:50:44.992093",
     "status": "completed"
    },
    "tags": []
   },
   "outputs": [],
   "source": [
    "test_preds = Xgb_best.predict(X_test_final)\n",
    "\n",
    "\n",
    "output = pd.DataFrame({'id': test.id,\n",
    "                       'label': test_preds})\n",
    "output.to_csv('submission.csv', index=False)"
   ]
  },
  {
   "cell_type": "code",
   "execution_count": 66,
   "id": "cd7c3d9c",
   "metadata": {
    "execution": {
     "iopub.execute_input": "2022-09-03T05:50:45.222403Z",
     "iopub.status.busy": "2022-09-03T05:50:45.222003Z",
     "iopub.status.idle": "2022-09-03T05:50:45.229936Z",
     "shell.execute_reply": "2022-09-03T05:50:45.228957Z"
    },
    "papermill": {
     "duration": 0.033693,
     "end_time": "2022-09-03T05:50:45.231951",
     "exception": false,
     "start_time": "2022-09-03T05:50:45.198258",
     "status": "completed"
    },
    "tags": []
   },
   "outputs": [
    {
     "data": {
      "text/plain": [
       "array([1, 0, 2])"
      ]
     },
     "execution_count": 66,
     "metadata": {},
     "output_type": "execute_result"
    }
   ],
   "source": [
    "output.label.unique()"
   ]
  },
  {
   "cell_type": "code",
   "execution_count": 67,
   "id": "a1e8c551",
   "metadata": {
    "execution": {
     "iopub.execute_input": "2022-09-03T05:50:45.279416Z",
     "iopub.status.busy": "2022-09-03T05:50:45.278255Z",
     "iopub.status.idle": "2022-09-03T05:50:45.289277Z",
     "shell.execute_reply": "2022-09-03T05:50:45.288263Z"
    },
    "papermill": {
     "duration": 0.037014,
     "end_time": "2022-09-03T05:50:45.291511",
     "exception": false,
     "start_time": "2022-09-03T05:50:45.254497",
     "status": "completed"
    },
    "tags": []
   },
   "outputs": [
    {
     "data": {
      "text/html": [
       "<div>\n",
       "<style scoped>\n",
       "    .dataframe tbody tr th:only-of-type {\n",
       "        vertical-align: middle;\n",
       "    }\n",
       "\n",
       "    .dataframe tbody tr th {\n",
       "        vertical-align: top;\n",
       "    }\n",
       "\n",
       "    .dataframe thead th {\n",
       "        text-align: right;\n",
       "    }\n",
       "</style>\n",
       "<table border=\"1\" class=\"dataframe\">\n",
       "  <thead>\n",
       "    <tr style=\"text-align: right;\">\n",
       "      <th></th>\n",
       "      <th>id</th>\n",
       "      <th>label</th>\n",
       "    </tr>\n",
       "  </thead>\n",
       "  <tbody>\n",
       "    <tr>\n",
       "      <th>0</th>\n",
       "      <td>0</td>\n",
       "      <td>1</td>\n",
       "    </tr>\n",
       "    <tr>\n",
       "      <th>1</th>\n",
       "      <td>1</td>\n",
       "      <td>1</td>\n",
       "    </tr>\n",
       "    <tr>\n",
       "      <th>2</th>\n",
       "      <td>2</td>\n",
       "      <td>1</td>\n",
       "    </tr>\n",
       "    <tr>\n",
       "      <th>3</th>\n",
       "      <td>3</td>\n",
       "      <td>1</td>\n",
       "    </tr>\n",
       "    <tr>\n",
       "      <th>4</th>\n",
       "      <td>4</td>\n",
       "      <td>1</td>\n",
       "    </tr>\n",
       "    <tr>\n",
       "      <th>...</th>\n",
       "      <td>...</td>\n",
       "      <td>...</td>\n",
       "    </tr>\n",
       "    <tr>\n",
       "      <th>1623</th>\n",
       "      <td>1623</td>\n",
       "      <td>0</td>\n",
       "    </tr>\n",
       "    <tr>\n",
       "      <th>1624</th>\n",
       "      <td>1624</td>\n",
       "      <td>1</td>\n",
       "    </tr>\n",
       "    <tr>\n",
       "      <th>1625</th>\n",
       "      <td>1625</td>\n",
       "      <td>0</td>\n",
       "    </tr>\n",
       "    <tr>\n",
       "      <th>1626</th>\n",
       "      <td>1626</td>\n",
       "      <td>0</td>\n",
       "    </tr>\n",
       "    <tr>\n",
       "      <th>1627</th>\n",
       "      <td>1627</td>\n",
       "      <td>0</td>\n",
       "    </tr>\n",
       "  </tbody>\n",
       "</table>\n",
       "<p>1628 rows × 2 columns</p>\n",
       "</div>"
      ],
      "text/plain": [
       "        id  label\n",
       "0        0      1\n",
       "1        1      1\n",
       "2        2      1\n",
       "3        3      1\n",
       "4        4      1\n",
       "...    ...    ...\n",
       "1623  1623      0\n",
       "1624  1624      1\n",
       "1625  1625      0\n",
       "1626  1626      0\n",
       "1627  1627      0\n",
       "\n",
       "[1628 rows x 2 columns]"
      ]
     },
     "execution_count": 67,
     "metadata": {},
     "output_type": "execute_result"
    }
   ],
   "source": [
    "output"
   ]
  },
  {
   "cell_type": "code",
   "execution_count": 68,
   "id": "3c7e0bbf",
   "metadata": {
    "execution": {
     "iopub.execute_input": "2022-09-03T05:50:45.338914Z",
     "iopub.status.busy": "2022-09-03T05:50:45.337951Z",
     "iopub.status.idle": "2022-09-03T05:50:45.343091Z",
     "shell.execute_reply": "2022-09-03T05:50:45.342167Z"
    },
    "papermill": {
     "duration": 0.030483,
     "end_time": "2022-09-03T05:50:45.345191",
     "exception": false,
     "start_time": "2022-09-03T05:50:45.314708",
     "status": "completed"
    },
    "tags": []
   },
   "outputs": [],
   "source": [
    "#model_new = XGBClassifier(learning_rate= 0.01,n_estimators= 1000 ,max_depth= 9,subsample= 0.8,colsample_bytree=0.8,gamma= 1)"
   ]
  },
  {
   "cell_type": "code",
   "execution_count": 69,
   "id": "b66925a2",
   "metadata": {
    "execution": {
     "iopub.execute_input": "2022-09-03T05:50:45.392645Z",
     "iopub.status.busy": "2022-09-03T05:50:45.391482Z",
     "iopub.status.idle": "2022-09-03T05:50:45.396453Z",
     "shell.execute_reply": "2022-09-03T05:50:45.395521Z"
    },
    "papermill": {
     "duration": 0.030416,
     "end_time": "2022-09-03T05:50:45.398348",
     "exception": false,
     "start_time": "2022-09-03T05:50:45.367932",
     "status": "completed"
    },
    "tags": []
   },
   "outputs": [],
   "source": [
    "#model_new.fit(X_train,y_train)"
   ]
  },
  {
   "cell_type": "code",
   "execution_count": 70,
   "id": "4d314e69",
   "metadata": {
    "execution": {
     "iopub.execute_input": "2022-09-03T05:50:45.446063Z",
     "iopub.status.busy": "2022-09-03T05:50:45.445144Z",
     "iopub.status.idle": "2022-09-03T05:50:45.449665Z",
     "shell.execute_reply": "2022-09-03T05:50:45.448668Z"
    },
    "papermill": {
     "duration": 0.030546,
     "end_time": "2022-09-03T05:50:45.451719",
     "exception": false,
     "start_time": "2022-09-03T05:50:45.421173",
     "status": "completed"
    },
    "tags": []
   },
   "outputs": [],
   "source": [
    "#f1_score(model_new.predict(X_train),y_train,average = \"micro\")\n"
   ]
  },
  {
   "cell_type": "code",
   "execution_count": 71,
   "id": "21cdec52",
   "metadata": {
    "execution": {
     "iopub.execute_input": "2022-09-03T05:50:45.498572Z",
     "iopub.status.busy": "2022-09-03T05:50:45.496681Z",
     "iopub.status.idle": "2022-09-03T05:50:45.501884Z",
     "shell.execute_reply": "2022-09-03T05:50:45.500952Z"
    },
    "papermill": {
     "duration": 0.030499,
     "end_time": "2022-09-03T05:50:45.504113",
     "exception": false,
     "start_time": "2022-09-03T05:50:45.473614",
     "status": "completed"
    },
    "tags": []
   },
   "outputs": [],
   "source": [
    "#f1_score(model_new.predict(X_test),y_test,average = \"micro\")"
   ]
  },
  {
   "cell_type": "code",
   "execution_count": 72,
   "id": "184ac7ae",
   "metadata": {
    "execution": {
     "iopub.execute_input": "2022-09-03T05:50:45.550126Z",
     "iopub.status.busy": "2022-09-03T05:50:45.549704Z",
     "iopub.status.idle": "2022-09-03T05:50:45.554646Z",
     "shell.execute_reply": "2022-09-03T05:50:45.553596Z"
    },
    "papermill": {
     "duration": 0.030679,
     "end_time": "2022-09-03T05:50:45.556841",
     "exception": false,
     "start_time": "2022-09-03T05:50:45.526162",
     "status": "completed"
    },
    "tags": []
   },
   "outputs": [],
   "source": [
    "#Xgb_params_new = #{\n",
    "        #'min_child_weight': range(1,10,2),\n",
    "        #'gamma': [0.5, 1, 1.5, 2, 5]\n",
    "        #'subsample': [0.6, 0.8, 1.0],\n",
    "        #'colsample_bytree': [0.6, 0.8, 1.0]\n",
    "        #'max_depth': range(2,10,2)\n",
    "        #'n_estimators': [100,250,500,1000]\n",
    "        #'learning_rate': [0.01,0.05,0.07,0.09,.1]\n",
    "        #}"
   ]
  },
  {
   "cell_type": "code",
   "execution_count": 73,
   "id": "ea42eb79",
   "metadata": {
    "execution": {
     "iopub.execute_input": "2022-09-03T05:50:45.603488Z",
     "iopub.status.busy": "2022-09-03T05:50:45.602425Z",
     "iopub.status.idle": "2022-09-03T05:50:45.607174Z",
     "shell.execute_reply": "2022-09-03T05:50:45.606115Z"
    },
    "papermill": {
     "duration": 0.030296,
     "end_time": "2022-09-03T05:50:45.609172",
     "exception": false,
     "start_time": "2022-09-03T05:50:45.578876",
     "status": "completed"
    },
    "tags": []
   },
   "outputs": [],
   "source": [
    "#from sklearn.model_selection import GridSearchCV\n",
    "#xgb_grid = GridSearchCV(XGBClassifier(n_estimators = 1000,max_depth = 8,min_child_weight = 5,learning_rate = 0.05),param_grid = Xgb_params_new,n_jobs = -1,cv = 3,verbose = 2 )\n",
    "#xgb_grid.fit(X_train,y_train)\n",
    "#xgb_grid.best_params_\n"
   ]
  },
  {
   "cell_type": "code",
   "execution_count": 74,
   "id": "048e7565",
   "metadata": {
    "execution": {
     "iopub.execute_input": "2022-09-03T05:50:45.656511Z",
     "iopub.status.busy": "2022-09-03T05:50:45.655431Z",
     "iopub.status.idle": "2022-09-03T05:50:45.660406Z",
     "shell.execute_reply": "2022-09-03T05:50:45.659297Z"
    },
    "papermill": {
     "duration": 0.030965,
     "end_time": "2022-09-03T05:50:45.662578",
     "exception": false,
     "start_time": "2022-09-03T05:50:45.631613",
     "status": "completed"
    },
    "tags": []
   },
   "outputs": [],
   "source": [
    "#xgb_grid.best_estimator_\n"
   ]
  },
  {
   "cell_type": "raw",
   "id": "db73af86",
   "metadata": {
    "papermill": {
     "duration": 0.023361,
     "end_time": "2022-09-03T05:50:45.709113",
     "exception": false,
     "start_time": "2022-09-03T05:50:45.685752",
     "status": "completed"
    },
    "tags": []
   },
   "source": []
  },
  {
   "cell_type": "code",
   "execution_count": 75,
   "id": "a17789c3",
   "metadata": {
    "execution": {
     "iopub.execute_input": "2022-09-03T05:50:45.758397Z",
     "iopub.status.busy": "2022-09-03T05:50:45.757295Z",
     "iopub.status.idle": "2022-09-03T05:50:45.762270Z",
     "shell.execute_reply": "2022-09-03T05:50:45.761301Z"
    },
    "papermill": {
     "duration": 0.032126,
     "end_time": "2022-09-03T05:50:45.764439",
     "exception": false,
     "start_time": "2022-09-03T05:50:45.732313",
     "status": "completed"
    },
    "tags": []
   },
   "outputs": [],
   "source": [
    "#f1_score(xgb_grid.best_estimator_.predict(X_train),y_train,average = \"micro\")\n"
   ]
  },
  {
   "cell_type": "code",
   "execution_count": 76,
   "id": "39e03206",
   "metadata": {
    "execution": {
     "iopub.execute_input": "2022-09-03T05:50:45.812288Z",
     "iopub.status.busy": "2022-09-03T05:50:45.811898Z",
     "iopub.status.idle": "2022-09-03T05:50:45.816327Z",
     "shell.execute_reply": "2022-09-03T05:50:45.815219Z"
    },
    "papermill": {
     "duration": 0.030741,
     "end_time": "2022-09-03T05:50:45.818366",
     "exception": false,
     "start_time": "2022-09-03T05:50:45.787625",
     "status": "completed"
    },
    "tags": []
   },
   "outputs": [],
   "source": [
    "#f1_score(xgb_grid.best_estimator_.predict(X_test),y_test,average = \"micro\")\n"
   ]
  },
  {
   "cell_type": "code",
   "execution_count": 77,
   "id": "720a48f3",
   "metadata": {
    "execution": {
     "iopub.execute_input": "2022-09-03T05:50:45.864455Z",
     "iopub.status.busy": "2022-09-03T05:50:45.864098Z",
     "iopub.status.idle": "2022-09-03T05:50:45.868309Z",
     "shell.execute_reply": "2022-09-03T05:50:45.867294Z"
    },
    "papermill": {
     "duration": 0.029971,
     "end_time": "2022-09-03T05:50:45.870501",
     "exception": false,
     "start_time": "2022-09-03T05:50:45.840530",
     "status": "completed"
    },
    "tags": []
   },
   "outputs": [],
   "source": [
    "\n",
    "#from xgboost import plot_importance\n",
    "#plot_importance(Xgb_best)\n",
    "#plt.show()"
   ]
  },
  {
   "cell_type": "code",
   "execution_count": 78,
   "id": "f05c0ab1",
   "metadata": {
    "execution": {
     "iopub.execute_input": "2022-09-03T05:50:45.916302Z",
     "iopub.status.busy": "2022-09-03T05:50:45.915890Z",
     "iopub.status.idle": "2022-09-03T05:50:45.920277Z",
     "shell.execute_reply": "2022-09-03T05:50:45.919204Z"
    },
    "papermill": {
     "duration": 0.03011,
     "end_time": "2022-09-03T05:50:45.922284",
     "exception": false,
     "start_time": "2022-09-03T05:50:45.892174",
     "status": "completed"
    },
    "tags": []
   },
   "outputs": [],
   "source": [
    "#thresholds = sorted(Xgb_best.feature_importances_)"
   ]
  },
  {
   "cell_type": "code",
   "execution_count": 79,
   "id": "ae07538a",
   "metadata": {
    "execution": {
     "iopub.execute_input": "2022-09-03T05:50:45.967859Z",
     "iopub.status.busy": "2022-09-03T05:50:45.967509Z",
     "iopub.status.idle": "2022-09-03T05:50:45.971864Z",
     "shell.execute_reply": "2022-09-03T05:50:45.970798Z"
    },
    "papermill": {
     "duration": 0.029711,
     "end_time": "2022-09-03T05:50:45.973896",
     "exception": false,
     "start_time": "2022-09-03T05:50:45.944185",
     "status": "completed"
    },
    "tags": []
   },
   "outputs": [],
   "source": [
    "#from sklearn.feature_selection import SelectFromModel"
   ]
  },
  {
   "cell_type": "code",
   "execution_count": 80,
   "id": "7e47c9fc",
   "metadata": {
    "execution": {
     "iopub.execute_input": "2022-09-03T05:50:46.021804Z",
     "iopub.status.busy": "2022-09-03T05:50:46.021432Z",
     "iopub.status.idle": "2022-09-03T05:50:46.025621Z",
     "shell.execute_reply": "2022-09-03T05:50:46.024632Z"
    },
    "papermill": {
     "duration": 0.030973,
     "end_time": "2022-09-03T05:50:46.027772",
     "exception": false,
     "start_time": "2022-09-03T05:50:45.996799",
     "status": "completed"
    },
    "tags": []
   },
   "outputs": [],
   "source": [
    "#model = XGBClassifier()\n",
    "\n",
    "#model.fit(X_train, y_train)"
   ]
  },
  {
   "cell_type": "code",
   "execution_count": 81,
   "id": "29a0d5ca",
   "metadata": {
    "execution": {
     "iopub.execute_input": "2022-09-03T05:50:46.075407Z",
     "iopub.status.busy": "2022-09-03T05:50:46.074435Z",
     "iopub.status.idle": "2022-09-03T05:50:46.079360Z",
     "shell.execute_reply": "2022-09-03T05:50:46.078476Z"
    },
    "papermill": {
     "duration": 0.030746,
     "end_time": "2022-09-03T05:50:46.081509",
     "exception": false,
     "start_time": "2022-09-03T05:50:46.050763",
     "status": "completed"
    },
    "tags": []
   },
   "outputs": [],
   "source": [
    "#from matplotlib import pyplot\n",
    "#from xgboost import plot_importance\n",
    "\n",
    "#plot_importance(model)\n",
    "#pyplot.show()"
   ]
  },
  {
   "cell_type": "code",
   "execution_count": 82,
   "id": "8e3b60c5",
   "metadata": {
    "execution": {
     "iopub.execute_input": "2022-09-03T05:50:46.127760Z",
     "iopub.status.busy": "2022-09-03T05:50:46.126722Z",
     "iopub.status.idle": "2022-09-03T05:50:46.132160Z",
     "shell.execute_reply": "2022-09-03T05:50:46.131138Z"
    },
    "papermill": {
     "duration": 0.030499,
     "end_time": "2022-09-03T05:50:46.134263",
     "exception": false,
     "start_time": "2022-09-03T05:50:46.103764",
     "status": "completed"
    },
    "tags": []
   },
   "outputs": [],
   "source": [
    "#thresholds = sorted(model.feature_importances_)\n",
    "\n",
    "#for thresh in thresholds:\n",
    "\n",
    "    # Select features using threshold\n",
    "    #selection = SelectFromModel(model, threshold=thresh, prefit=True)\n",
    "    #select_X_train = selection.transform(X_train)\n",
    "\n",
    "    # Train model\n",
    "    #selection_model = XGBClassifier()\n",
    "    #selection_model.fit(select_X_train, y_train)\n",
    "\n",
    "    # Evaluate model\n",
    "    #select_X_test = selection.transform(X_test)\n",
    "    #y_pred = selection_model.predict(select_X_test)\n",
    "    #predictions = [round(value) for value in y_pred]\n",
    "    #accuracy = accuracy_score(y_test, predictions)\n",
    "    #print('Thresh = %.3f, no.of features = %d, Accuracy = %.2f%%' % (thresh, select_X_train.shape[1], accuracy * 100.0))"
   ]
  },
  {
   "cell_type": "code",
   "execution_count": 83,
   "id": "5201c84d",
   "metadata": {
    "execution": {
     "iopub.execute_input": "2022-09-03T05:50:46.180490Z",
     "iopub.status.busy": "2022-09-03T05:50:46.179419Z",
     "iopub.status.idle": "2022-09-03T05:50:46.184107Z",
     "shell.execute_reply": "2022-09-03T05:50:46.183264Z"
    },
    "papermill": {
     "duration": 0.029935,
     "end_time": "2022-09-03T05:50:46.186088",
     "exception": false,
     "start_time": "2022-09-03T05:50:46.156153",
     "status": "completed"
    },
    "tags": []
   },
   "outputs": [],
   "source": [
    "#selection = SelectFromModel(model, threshold=0.013, prefit=True)\n",
    "#X_train_reduced = selection.transform(X_train)\n",
    "#X_test_reduced = selection.transform(X_test)"
   ]
  },
  {
   "cell_type": "code",
   "execution_count": 84,
   "id": "6b8dea25",
   "metadata": {
    "execution": {
     "iopub.execute_input": "2022-09-03T05:50:46.232154Z",
     "iopub.status.busy": "2022-09-03T05:50:46.231754Z",
     "iopub.status.idle": "2022-09-03T05:50:46.236497Z",
     "shell.execute_reply": "2022-09-03T05:50:46.235453Z"
    },
    "papermill": {
     "duration": 0.030263,
     "end_time": "2022-09-03T05:50:46.238520",
     "exception": false,
     "start_time": "2022-09-03T05:50:46.208257",
     "status": "completed"
    },
    "tags": []
   },
   "outputs": [],
   "source": [
    "#Xgb_best = XGBClassifier(learning_rate= 0.01,n_estimators= 1000 ,max_depth= 9,subsample= 0.8,colsample_bytree=0.8,gamma= 1)"
   ]
  },
  {
   "cell_type": "code",
   "execution_count": 85,
   "id": "ba5a8c9f",
   "metadata": {
    "execution": {
     "iopub.execute_input": "2022-09-03T05:50:46.284993Z",
     "iopub.status.busy": "2022-09-03T05:50:46.283768Z",
     "iopub.status.idle": "2022-09-03T05:50:46.288691Z",
     "shell.execute_reply": "2022-09-03T05:50:46.287803Z"
    },
    "papermill": {
     "duration": 0.03055,
     "end_time": "2022-09-03T05:50:46.290720",
     "exception": false,
     "start_time": "2022-09-03T05:50:46.260170",
     "status": "completed"
    },
    "tags": []
   },
   "outputs": [],
   "source": [
    "#Xgb_best.fit(X_train_reduced,y_train)"
   ]
  },
  {
   "cell_type": "code",
   "execution_count": 86,
   "id": "ecb9da94",
   "metadata": {
    "execution": {
     "iopub.execute_input": "2022-09-03T05:50:46.336740Z",
     "iopub.status.busy": "2022-09-03T05:50:46.336053Z",
     "iopub.status.idle": "2022-09-03T05:50:46.340924Z",
     "shell.execute_reply": "2022-09-03T05:50:46.340043Z"
    },
    "papermill": {
     "duration": 0.029668,
     "end_time": "2022-09-03T05:50:46.342897",
     "exception": false,
     "start_time": "2022-09-03T05:50:46.313229",
     "status": "completed"
    },
    "tags": []
   },
   "outputs": [],
   "source": [
    "#accuracy_score(Xgb_best.predict(X_test_reduced),y_test)"
   ]
  },
  {
   "cell_type": "code",
   "execution_count": 87,
   "id": "c5169478",
   "metadata": {
    "execution": {
     "iopub.execute_input": "2022-09-03T05:50:46.388613Z",
     "iopub.status.busy": "2022-09-03T05:50:46.387726Z",
     "iopub.status.idle": "2022-09-03T05:50:46.392126Z",
     "shell.execute_reply": "2022-09-03T05:50:46.391129Z"
    },
    "papermill": {
     "duration": 0.029345,
     "end_time": "2022-09-03T05:50:46.394121",
     "exception": false,
     "start_time": "2022-09-03T05:50:46.364776",
     "status": "completed"
    },
    "tags": []
   },
   "outputs": [],
   "source": [
    "#f1_score(Xgb_best.predict(X_test_reduced),y_test,average = \"micro\")"
   ]
  },
  {
   "cell_type": "code",
   "execution_count": 88,
   "id": "962e6973",
   "metadata": {
    "execution": {
     "iopub.execute_input": "2022-09-03T05:50:46.440128Z",
     "iopub.status.busy": "2022-09-03T05:50:46.439751Z",
     "iopub.status.idle": "2022-09-03T05:50:46.444437Z",
     "shell.execute_reply": "2022-09-03T05:50:46.443408Z"
    },
    "papermill": {
     "duration": 0.030284,
     "end_time": "2022-09-03T05:50:46.446720",
     "exception": false,
     "start_time": "2022-09-03T05:50:46.416436",
     "status": "completed"
    },
    "tags": []
   },
   "outputs": [],
   "source": [
    "#from sklearn.model_selection import GridSearchCV\n",
    "#Creating a grid of hyperparametersgrid_\n",
    "#params = {'n_estimators': [100,200,300,]}\n",
    "#params = dict()\n",
    "#params['n_estimators'] = [10, 50, 100, 500]\n",
    "#params['learning_rate'] = [0.0001, 0.001, 0.01, 0.1, 1.0]\n",
    "#Building a 3 fold CV GridSearchCV object\n",
    "#grid_object = GridSearchCV(estimator = AdaBoostClassifier(), param_grid = params, cv = 3, n_jobs = -1)\n",
    "#Fitting the grid to the training data\n",
    "#grid_object.fit(X_train, y_train)#Extracting the best parameters\n",
    "#grid_object.best_params_\n"
   ]
  },
  {
   "cell_type": "code",
   "execution_count": 89,
   "id": "e0bf3013",
   "metadata": {
    "execution": {
     "iopub.execute_input": "2022-09-03T05:50:46.493417Z",
     "iopub.status.busy": "2022-09-03T05:50:46.493021Z",
     "iopub.status.idle": "2022-09-03T05:50:46.497609Z",
     "shell.execute_reply": "2022-09-03T05:50:46.496587Z"
    },
    "papermill": {
     "duration": 0.030343,
     "end_time": "2022-09-03T05:50:46.499635",
     "exception": false,
     "start_time": "2022-09-03T05:50:46.469292",
     "status": "completed"
    },
    "tags": []
   },
   "outputs": [],
   "source": [
    "#f1_score(y_test,grid_object.best_estimator_.predict(X_test),average = \"micro\")"
   ]
  },
  {
   "cell_type": "code",
   "execution_count": 90,
   "id": "4c126647",
   "metadata": {
    "execution": {
     "iopub.execute_input": "2022-09-03T05:50:46.546531Z",
     "iopub.status.busy": "2022-09-03T05:50:46.546146Z",
     "iopub.status.idle": "2022-09-03T05:50:46.550562Z",
     "shell.execute_reply": "2022-09-03T05:50:46.549561Z"
    },
    "papermill": {
     "duration": 0.030251,
     "end_time": "2022-09-03T05:50:46.552893",
     "exception": false,
     "start_time": "2022-09-03T05:50:46.522642",
     "status": "completed"
    },
    "tags": []
   },
   "outputs": [],
   "source": [
    "#train"
   ]
  },
  {
   "cell_type": "code",
   "execution_count": 91,
   "id": "6fc223ca",
   "metadata": {
    "execution": {
     "iopub.execute_input": "2022-09-03T05:50:46.597976Z",
     "iopub.status.busy": "2022-09-03T05:50:46.597617Z",
     "iopub.status.idle": "2022-09-03T05:50:46.601930Z",
     "shell.execute_reply": "2022-09-03T05:50:46.600961Z"
    },
    "papermill": {
     "duration": 0.029609,
     "end_time": "2022-09-03T05:50:46.604226",
     "exception": false,
     "start_time": "2022-09-03T05:50:46.574617",
     "status": "completed"
    },
    "tags": []
   },
   "outputs": [],
   "source": [
    "#import seaborn as sns\n",
    "#sns.heatmap(train)"
   ]
  },
  {
   "cell_type": "code",
   "execution_count": null,
   "id": "bba37b26",
   "metadata": {
    "papermill": {
     "duration": 0.021465,
     "end_time": "2022-09-03T05:50:46.649320",
     "exception": false,
     "start_time": "2022-09-03T05:50:46.627855",
     "status": "completed"
    },
    "tags": []
   },
   "outputs": [],
   "source": []
  }
 ],
 "metadata": {
  "kernelspec": {
   "display_name": "Python 3",
   "language": "python",
   "name": "python3"
  },
  "language_info": {
   "codemirror_mode": {
    "name": "ipython",
    "version": 3
   },
   "file_extension": ".py",
   "mimetype": "text/x-python",
   "name": "python",
   "nbconvert_exporter": "python",
   "pygments_lexer": "ipython3",
   "version": "3.7.12"
  },
  "papermill": {
   "default_parameters": {},
   "duration": 64.221472,
   "end_time": "2022-09-03T05:50:47.995031",
   "environment_variables": {},
   "exception": null,
   "input_path": "__notebook__.ipynb",
   "output_path": "__notebook__.ipynb",
   "parameters": {},
   "start_time": "2022-09-03T05:49:43.773559",
   "version": "2.3.4"
  }
 },
 "nbformat": 4,
 "nbformat_minor": 5
}
